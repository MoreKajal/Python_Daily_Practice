{
  "nbformat": 4,
  "nbformat_minor": 0,
  "metadata": {
    "colab": {
      "name": "Fundamentals.ipynb",
      "provenance": [],
      "authorship_tag": "ABX9TyMkYgFuO0J5JNI2cBXTupiA",
      "include_colab_link": true
    },
    "kernelspec": {
      "name": "python3",
      "display_name": "Python 3"
    },
    "language_info": {
      "name": "python"
    }
  },
  "cells": [
    {
      "cell_type": "markdown",
      "metadata": {
        "id": "view-in-github",
        "colab_type": "text"
      },
      "source": [
        "<a href=\"https://colab.research.google.com/github/MoreKajal/Python_Daily_Practice/blob/main/Fundamentals.ipynb\" target=\"_parent\"><img src=\"https://colab.research.google.com/assets/colab-badge.svg\" alt=\"Open In Colab\"/></a>"
      ]
    },
    {
      "cell_type": "markdown",
      "metadata": {
        "id": "oj1QkllBAXjo"
      },
      "source": [
        "A grocery store sells a bag of ice for $1.25, and makes 20% profit, If it sells 500 bags of ice, how much total profit does it make?"
      ]
    },
    {
      "cell_type": "markdown",
      "metadata": {
        "id": "ERC1cBrTAu6Y"
      },
      "source": [
        "Solution:\n",
        "\n",
        "Lets convert the information to mathematical expressions\n",
        "\n",
        "cost of ice bag = 1.25\n",
        "profit margin = 20% = (20/100) 0.2\n",
        "profit per bag = profit margin * cost of ice bag = 0.2 * 1.25\n",
        "No. of bags = 500\n",
        "Therefore, Total profit = No. of bags * profit perr bag * cost price"
      ]
    },
    {
      "cell_type": "code",
      "metadata": {
        "colab": {
          "base_uri": "https://localhost:8080/"
        },
        "id": "IbkEm8hBATaC",
        "outputId": "036bfc90-7635-4456-f2cd-943f0f8a9597"
      },
      "source": [
        "cost_of_ice_bag = 1.25 \n",
        "profit_margin = 20/100 \n",
        "profit_per_bag = profit_margin * cost_of_ice_bag \n",
        "No_of_bags = 500 \n",
        "Total_profit = No_of_bags * profit_per_bag * cost_of_ice_bag\n",
        "Total_profit"
      ],
      "execution_count": 6,
      "outputs": [
        {
          "output_type": "execute_result",
          "data": {
            "text/plain": [
              "156.25"
            ]
          },
          "metadata": {},
          "execution_count": 6
        }
      ]
    }
  ]
}