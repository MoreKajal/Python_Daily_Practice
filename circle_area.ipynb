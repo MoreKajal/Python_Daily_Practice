{
  "nbformat": 4,
  "nbformat_minor": 0,
  "metadata": {
    "colab": {
      "name": "circle_area.ipynb",
      "provenance": [],
      "authorship_tag": "ABX9TyNHOn+4yU0C0xZJ1enO1xFW",
      "include_colab_link": true
    },
    "kernelspec": {
      "name": "python3",
      "display_name": "Python 3"
    },
    "language_info": {
      "name": "python"
    }
  },
  "cells": [
    {
      "cell_type": "markdown",
      "metadata": {
        "id": "view-in-github",
        "colab_type": "text"
      },
      "source": [
        "<a href=\"https://colab.research.google.com/github/MoreKajal/Python_Daily_Practice/blob/main/circle_area.ipynb\" target=\"_parent\"><img src=\"https://colab.research.google.com/assets/colab-badge.svg\" alt=\"Open In Colab\"/></a>"
      ]
    },
    {
      "cell_type": "markdown",
      "metadata": {
        "id": "gfhRByDcatFf"
      },
      "source": [
        "Area of Circle is given as - pi * r^2\n",
        "where pi - constant = 3.142\n",
        "      r  - radius of circle"
      ]
    },
    {
      "cell_type": "code",
      "metadata": {
        "id": "R8W1NOXGTiRH",
        "colab": {
          "base_uri": "https://localhost:8080/"
        },
        "outputId": "4b9ce0df-6eed-4557-ff55-a8d27b9ebe09"
      },
      "source": [
        "#will write a generalized function for it\n",
        "def area_circle(r):\n",
        "  pi = 3.142\n",
        "  return (pi * pow(r,2))\n",
        "\n",
        "print('The area of circle is %.3f ' %  area_circle(5))\n",
        "print('The area of circle is ' , area_circle(5))      \n",
        "#By default result is given upto 2 decimal places. \n",
        "#But using %.nf   % we can print upto n decimal points\n",
        "#Also while using % %, we do not use ( , )   \n"
      ],
      "execution_count": 8,
      "outputs": [
        {
          "output_type": "stream",
          "text": [
            "The area of circle is 78.550 \n",
            "The area of circle is  78.55\n"
          ],
          "name": "stdout"
        }
      ]
    }
  ]
}