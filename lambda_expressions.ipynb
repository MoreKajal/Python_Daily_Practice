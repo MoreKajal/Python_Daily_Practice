{
  "nbformat": 4,
  "nbformat_minor": 0,
  "metadata": {
    "colab": {
      "name": "lambda_expressions.ipynb",
      "provenance": [],
      "authorship_tag": "ABX9TyO+y9YsI4c8LbE/qyYtUZGk",
      "include_colab_link": true
    },
    "kernelspec": {
      "name": "python3",
      "display_name": "Python 3"
    },
    "language_info": {
      "name": "python"
    }
  },
  "cells": [
    {
      "cell_type": "markdown",
      "metadata": {
        "id": "view-in-github",
        "colab_type": "text"
      },
      "source": [
        "<a href=\"https://colab.research.google.com/github/MoreKajal/Python_Daily_Practice/blob/main/lambda_expressions.ipynb\" target=\"_parent\"><img src=\"https://colab.research.google.com/assets/colab-badge.svg\" alt=\"Open In Colab\"/></a>"
      ]
    },
    {
      "cell_type": "markdown",
      "metadata": {
        "id": "b_33WRdbRWMP"
      },
      "source": [
        "Lambda is a Anonymous function in python, which can take any number of arguements but returns a sigle value evaluated for that expression.\n",
        "\n",
        "Syntax is:\n",
        "\n",
        "lambda arguements : expression"
      ]
    },
    {
      "cell_type": "code",
      "metadata": {
        "colab": {
          "base_uri": "https://localhost:8080/"
        },
        "id": "pTruwUnoRQTY",
        "outputId": "3bfb2765-9a61-4ae9-9798-8ad41e1bc917"
      },
      "source": [
        "#Eg : Add 5 to given variable(arguement) a, and return the result\n",
        "x = lambda a : a + 5\n",
        "print(x(7))          #x(7) , here 7 corresponds to value of a"
      ],
      "execution_count": 2,
      "outputs": [
        {
          "output_type": "stream",
          "text": [
            "12\n"
          ],
          "name": "stdout"
        }
      ]
    },
    {
      "cell_type": "code",
      "metadata": {
        "colab": {
          "base_uri": "https://localhost:8080/"
        },
        "id": "g6Y3_XEmSXqH",
        "outputId": "fb694838-f48d-4383-c24a-95c870fcdea9"
      },
      "source": [
        "#Write a lambda function to return cube of a number\n",
        "\n",
        "cube = lambda y : y * y * y\n",
        "print(cube(10))"
      ],
      "execution_count": 5,
      "outputs": [
        {
          "output_type": "stream",
          "text": [
            "1000\n"
          ],
          "name": "stdout"
        }
      ]
    },
    {
      "cell_type": "code",
      "metadata": {
        "colab": {
          "base_uri": "https://localhost:8080/"
        },
        "id": "bODdhRk7TPIG",
        "outputId": "0e148c72-13d5-4587-932b-35fe13e04938"
      },
      "source": [
        "#Filter a list given to return even numbers using lambda and filter function\n",
        "\n",
        "list1 = [1,2,4,6,5,8,9,11,14,16, 20]\n",
        "\n",
        "res = list(filter(lambda x : x%2==0, list1))    #Need to give the format as list to return the result\n",
        "#res = tuple(filter(lambda x : x%2==0, list1))  #Will give tuple\n",
        "print(res)"
      ],
      "execution_count": 9,
      "outputs": [
        {
          "output_type": "stream",
          "text": [
            "[2, 4, 6, 8, 14, 16, 20]\n"
          ],
          "name": "stdout"
        }
      ]
    }
  ]
}