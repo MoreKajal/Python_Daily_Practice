{
  "nbformat": 4,
  "nbformat_minor": 0,
  "metadata": {
    "colab": {
      "name": "elementexistsinlist.ipynb",
      "provenance": [],
      "authorship_tag": "ABX9TyO9iftgahJNJG4j6SVi0T6M",
      "include_colab_link": true
    },
    "kernelspec": {
      "name": "python3",
      "display_name": "Python 3"
    },
    "language_info": {
      "name": "python"
    }
  },
  "cells": [
    {
      "cell_type": "markdown",
      "metadata": {
        "id": "view-in-github",
        "colab_type": "text"
      },
      "source": [
        "<a href=\"https://colab.research.google.com/github/MoreKajal/Python_Daily_Practice/blob/main/elementexistsinlist.ipynb\" target=\"_parent\"><img src=\"https://colab.research.google.com/assets/colab-badge.svg\" alt=\"Open In Colab\"/></a>"
      ]
    },
    {
      "cell_type": "markdown",
      "metadata": {
        "id": "RwvOcx6RFK1U"
      },
      "source": [
        "Check wether a element exists in a given list or not"
      ]
    },
    {
      "cell_type": "code",
      "metadata": {
        "colab": {
          "base_uri": "https://localhost:8080/"
        },
        "id": "IN4FPmD4FJ8Q",
        "outputId": "f2a26a43-840c-490d-fc81-e077ccc40006"
      },
      "source": [
        "myList = [1,2,3,4,5,6,7,8,9]\n",
        "\n",
        "eleto_check = 11\n",
        "\n",
        "print(\"Element to check in given list - \", eleto_check)\n",
        "for i in myList:\n",
        "  if (i == eleto_check):\n",
        "    print('Element Exists')\n",
        "    break\n",
        "  else:\n",
        "    print(\"Element does not exist\")"
      ],
      "execution_count": 10,
      "outputs": [
        {
          "output_type": "stream",
          "text": [
            "Element to check in given list -  11\n",
            "Element does not exist\n",
            "Element does not exist\n",
            "Element does not exist\n",
            "Element does not exist\n",
            "Element does not exist\n",
            "Element does not exist\n",
            "Element does not exist\n",
            "Element does not exist\n",
            "Element does not exist\n"
          ],
          "name": "stdout"
        }
      ]
    }
  ]
}