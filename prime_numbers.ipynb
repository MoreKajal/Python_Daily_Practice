{
  "nbformat": 4,
  "nbformat_minor": 0,
  "metadata": {
    "colab": {
      "name": "prime_numbers.ipynb",
      "provenance": [],
      "authorship_tag": "ABX9TyNNfNcELLdF1MZW+W1WoVhA",
      "include_colab_link": true
    },
    "kernelspec": {
      "name": "python3",
      "display_name": "Python 3"
    },
    "language_info": {
      "name": "python"
    }
  },
  "cells": [
    {
      "cell_type": "markdown",
      "metadata": {
        "id": "view-in-github",
        "colab_type": "text"
      },
      "source": [
        "<a href=\"https://colab.research.google.com/github/MoreKajal/Python_Daily_Practice/blob/main/prime_numbers.ipynb\" target=\"_parent\"><img src=\"https://colab.research.google.com/assets/colab-badge.svg\" alt=\"Open In Colab\"/></a>"
      ]
    },
    {
      "cell_type": "markdown",
      "metadata": {
        "id": "rGPkTbzbiZ3X"
      },
      "source": [
        "#Prime Number\n",
        "A Natural number greater than 1 and who has only 2 factors i.e. 1 and the number itself.\n",
        "\n"
      ]
    },
    {
      "cell_type": "code",
      "metadata": {
        "colab": {
          "base_uri": "https://localhost:8080/"
        },
        "id": "Oxy5u78MiYMy",
        "outputId": "93c82865-4cbe-4869-fe24-b01de3b4abbc"
      },
      "source": [
        "#Code to find prime numbers in given range\n",
        "\n",
        "start = 11\n",
        "end = 25\n",
        "\n",
        "for i in range(start, end+1):\n",
        "  if i>1:\n",
        "    #Here will take a variable j starting fron 2, and goes upto i'th value, and will check remainder of i % j for each j in range (2 to i)\n",
        "    #The value of i where the remainder == 0, will be the number divisible by some number, so will break the loop\n",
        "    #And where the modulus Not Equal to 0, that i'th value will be printed by breaking the loop\n",
        "    for j in range(2, i):\n",
        "      if (i % j == 0):\n",
        "        #print(i, 'is not prime')\n",
        "        break\n",
        "    else:\n",
        "      print(i, 'is Prime') "
      ],
      "execution_count": 16,
      "outputs": [
        {
          "output_type": "stream",
          "text": [
            "11 is Prime\n",
            "13 is Prime\n",
            "17 is Prime\n",
            "19 is Prime\n",
            "23 is Prime\n"
          ],
          "name": "stdout"
        }
      ]
    },
    {
      "cell_type": "markdown",
      "metadata": {
        "id": "YQgxXEegrkYN"
      },
      "source": [
        "Python Program to find how many Prime numbers are present between 0 to 99\n"
      ]
    },
    {
      "cell_type": "code",
      "metadata": {
        "colab": {
          "base_uri": "https://localhost:8080/"
        },
        "id": "_0rjj4vHrr21",
        "outputId": "fb9632dd-1823-4371-cbea-90f9fafb7f12"
      },
      "source": [
        "start = 0\n",
        "end = 99\n",
        "count = 0 \n",
        "\n",
        "for i in range(start, end+1):\n",
        "  if i>1:\n",
        "    for j in range(2, i):\n",
        "      if (i % j == 0):\n",
        "        #print(i, 'is not prime')\n",
        "        break\n",
        "    else:\n",
        "      #print(i, 'is Prime') \n",
        "      count += 1\n",
        "print('Prime numbers between given range are : ', count)"
      ],
      "execution_count": 19,
      "outputs": [
        {
          "output_type": "stream",
          "text": [
            "Prime numbers between given range are :  25\n"
          ],
          "name": "stdout"
        }
      ]
    }
  ]
}