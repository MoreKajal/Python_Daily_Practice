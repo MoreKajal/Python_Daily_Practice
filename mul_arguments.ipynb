{
  "nbformat": 4,
  "nbformat_minor": 0,
  "metadata": {
    "colab": {
      "name": "mul_arguments.ipynb",
      "provenance": [],
      "authorship_tag": "ABX9TyMd/vBvaE71qhp1TSho6+wc",
      "include_colab_link": true
    },
    "kernelspec": {
      "name": "python3",
      "display_name": "Python 3"
    },
    "language_info": {
      "name": "python"
    }
  },
  "cells": [
    {
      "cell_type": "markdown",
      "metadata": {
        "id": "view-in-github",
        "colab_type": "text"
      },
      "source": [
        "<a href=\"https://colab.research.google.com/github/MoreKajal/Python_Daily_Practice/blob/main/mul_arguments.ipynb\" target=\"_parent\"><img src=\"https://colab.research.google.com/assets/colab-badge.svg\" alt=\"Open In Colab\"/></a>"
      ]
    },
    {
      "cell_type": "markdown",
      "metadata": {
        "id": "2PsFTVtU86Hc"
      },
      "source": [
        "Different ways to pass multiple values to a function"
      ]
    },
    {
      "cell_type": "code",
      "metadata": {
        "colab": {
          "base_uri": "https://localhost:8080/"
        },
        "id": "wF4SfRn_81fA",
        "outputId": "88c415fd-4333-4159-8c69-03b610743418"
      },
      "source": [
        "def passvalues(name, school):\n",
        "  print('Hey' + ' , ' + ' I am ' + name + ' from ' + school)\n",
        "\n",
        "passvalues('Varsha', 'SVSN')"
      ],
      "execution_count": 3,
      "outputs": [
        {
          "output_type": "stream",
          "text": [
            "Hey ,  I am Varsha from SVSN\n"
          ],
          "name": "stdout"
        }
      ]
    }
  ]
}