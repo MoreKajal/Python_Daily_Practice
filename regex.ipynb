{
  "nbformat": 4,
  "nbformat_minor": 0,
  "metadata": {
    "colab": {
      "name": "regex.ipynb",
      "provenance": [],
      "authorship_tag": "ABX9TyOezY9J6218X7roVoMphgnb",
      "include_colab_link": true
    },
    "kernelspec": {
      "name": "python3",
      "display_name": "Python 3"
    },
    "language_info": {
      "name": "python"
    }
  },
  "cells": [
    {
      "cell_type": "markdown",
      "metadata": {
        "id": "view-in-github",
        "colab_type": "text"
      },
      "source": [
        "<a href=\"https://colab.research.google.com/github/MoreKajal/Python_Daily_Practice/blob/main/regex.ipynb\" target=\"_parent\"><img src=\"https://colab.research.google.com/assets/colab-badge.svg\" alt=\"Open In Colab\"/></a>"
      ]
    },
    {
      "cell_type": "markdown",
      "metadata": {
        "id": "6_F_71IXU-zD"
      },
      "source": [
        "Regex Expressions\n",
        "\n",
        "Regex expressions are used to match specific strings(pattern)\n",
        "MetaCharacters (total 14) are used in regex expression formation\n",
        "\n",
        "\\ -> Used to drop the special meaning of character following it\n",
        "\n",
        "[] -> Represent character class\n",
        "\n",
        "^  -> Matches with the beginning\n",
        "\n",
        "$  -> Matches with the end\n",
        "\n",
        "-  -> Matches any character except newline\n",
        "\n",
        "?  -> Matches Zero or One \n",
        "\n",
        "|  -> OR (Matches with the any of the specified character)\n",
        "\n",
        "*  -> Any number of occurrences(can be zero)\n",
        "\n",
        "+  -> One or more occurrence\n",
        "\n",
        "{} -> Indicate number of occurrences of preceding RE to match\n",
        "\n",
        "() -> Enclose a group of RE's"
      ]
    },
    {
      "cell_type": "code",
      "metadata": {
        "id": "ZgIMRSWDSYDx"
      },
      "source": [
        ""
      ],
      "execution_count": null,
      "outputs": []
    }
  ]
}