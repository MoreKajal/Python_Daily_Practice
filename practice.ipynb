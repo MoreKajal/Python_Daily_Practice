{
  "nbformat": 4,
  "nbformat_minor": 0,
  "metadata": {
    "colab": {
      "name": "practice.ipynb",
      "provenance": [],
      "authorship_tag": "ABX9TyMLbKG1gE0KaAa9A39zoPwb",
      "include_colab_link": true
    },
    "kernelspec": {
      "name": "python3",
      "display_name": "Python 3"
    },
    "language_info": {
      "name": "python"
    }
  },
  "cells": [
    {
      "cell_type": "markdown",
      "metadata": {
        "id": "view-in-github",
        "colab_type": "text"
      },
      "source": [
        "<a href=\"https://colab.research.google.com/github/MoreKajal/Python_Daily_Practice/blob/main/practice.ipynb\" target=\"_parent\"><img src=\"https://colab.research.google.com/assets/colab-badge.svg\" alt=\"Open In Colab\"/></a>"
      ]
    },
    {
      "cell_type": "code",
      "metadata": {
        "colab": {
          "base_uri": "https://localhost:8080/"
        },
        "id": "zDtFZEcu_XUt",
        "outputId": "b795b44a-f7d0-4f29-efc9-0913c702a99d"
      },
      "source": [
        "to = [46, 13]\n",
        "pe = [\"s\", \"T\",\"C\"]\n",
        "for x in to:\n",
        "  for y in pe:\n",
        "    print(x,y)"
      ],
      "execution_count": null,
      "outputs": [
        {
          "output_type": "stream",
          "text": [
            "46 s\n",
            "46 T\n",
            "46 C\n",
            "13 s\n",
            "13 T\n",
            "13 C\n"
          ],
          "name": "stdout"
        }
      ]
    },
    {
      "cell_type": "code",
      "metadata": {
        "colab": {
          "base_uri": "https://localhost:8080/",
          "height": 180
        },
        "id": "cLbfwueg_0W3",
        "outputId": "45003733-367b-4142-d784-bf6b09fed1b3"
      },
      "source": [
        "t1 = (1,2,3)\n",
        "len(t1.append((4,5)))"
      ],
      "execution_count": null,
      "outputs": [
        {
          "output_type": "error",
          "ename": "AttributeError",
          "evalue": "ignored",
          "traceback": [
            "\u001b[0;31m---------------------------------------------------------------------------\u001b[0m",
            "\u001b[0;31mAttributeError\u001b[0m                            Traceback (most recent call last)",
            "\u001b[0;32m<ipython-input-2-e9a8221a380d>\u001b[0m in \u001b[0;36m<module>\u001b[0;34m()\u001b[0m\n\u001b[1;32m      1\u001b[0m \u001b[0mt1\u001b[0m \u001b[0;34m=\u001b[0m \u001b[0;34m(\u001b[0m\u001b[0;36m1\u001b[0m\u001b[0;34m,\u001b[0m\u001b[0;36m2\u001b[0m\u001b[0;34m,\u001b[0m\u001b[0;36m3\u001b[0m\u001b[0;34m)\u001b[0m\u001b[0;34m\u001b[0m\u001b[0;34m\u001b[0m\u001b[0m\n\u001b[0;32m----> 2\u001b[0;31m \u001b[0mlen\u001b[0m\u001b[0;34m(\u001b[0m\u001b[0mt1\u001b[0m\u001b[0;34m.\u001b[0m\u001b[0mappend\u001b[0m\u001b[0;34m(\u001b[0m\u001b[0;34m(\u001b[0m\u001b[0;36m4\u001b[0m\u001b[0;34m,\u001b[0m\u001b[0;36m5\u001b[0m\u001b[0;34m)\u001b[0m\u001b[0;34m)\u001b[0m\u001b[0;34m)\u001b[0m\u001b[0;34m\u001b[0m\u001b[0;34m\u001b[0m\u001b[0m\n\u001b[0m",
            "\u001b[0;31mAttributeError\u001b[0m: 'tuple' object has no attribute 'append'"
          ]
        }
      ]
    },
    {
      "cell_type": "code",
      "metadata": {
        "colab": {
          "base_uri": "https://localhost:8080/"
        },
        "id": "XaTTOo8KACvC",
        "outputId": "97f970e5-92be-4b70-9e1a-4afea4d6dc22"
      },
      "source": [
        "a = \"HELLO WORLD\"\n",
        "#a = 'helloworld'\n",
        "#isTitle\n",
        "print(a.title())"
      ],
      "execution_count": null,
      "outputs": [
        {
          "output_type": "stream",
          "text": [
            "Helloworld\n"
          ],
          "name": "stdout"
        }
      ]
    },
    {
      "cell_type": "code",
      "metadata": {
        "colab": {
          "base_uri": "https://localhost:8080/",
          "height": 129
        },
        "id": "NeTIrxRlAQaF",
        "outputId": "29af62ee-4530-422c-9d37-4911e7122815"
      },
      "source": [
        "x =1\n",
        "while True:\n",
        "  if x % 6 = 0:\n",
        "    break\n",
        "  print(x)\n",
        "  x += 1"
      ],
      "execution_count": null,
      "outputs": [
        {
          "output_type": "error",
          "ename": "SyntaxError",
          "evalue": "ignored",
          "traceback": [
            "\u001b[0;36m  File \u001b[0;32m\"<ipython-input-5-0e3381dbdfa2>\"\u001b[0;36m, line \u001b[0;32m3\u001b[0m\n\u001b[0;31m    if x % 6 = 0:\u001b[0m\n\u001b[0m             ^\u001b[0m\n\u001b[0;31mSyntaxError\u001b[0m\u001b[0;31m:\u001b[0m invalid syntax\n"
          ]
        }
      ]
    },
    {
      "cell_type": "code",
      "metadata": {
        "colab": {
          "base_uri": "https://localhost:8080/"
        },
        "id": "hcmYBFAZAoPb",
        "outputId": "388afe50-4347-45fa-8815-52790d7b2dbb"
      },
      "source": [
        "def star(b):\n",
        "  for a in range(b):\n",
        "    print(' ' * (a - b -1) + '*' * (2* b + 1))\n",
        "star(3)"
      ],
      "execution_count": null,
      "outputs": [
        {
          "output_type": "stream",
          "text": [
            "*******\n",
            "*******\n",
            "*******\n"
          ],
          "name": "stdout"
        }
      ]
    },
    {
      "cell_type": "code",
      "metadata": {
        "colab": {
          "base_uri": "https://localhost:8080/"
        },
        "id": "-AH8SHURA5vx",
        "outputId": "0201b3ed-2c42-43b9-d809-c434f3449c8b"
      },
      "source": [
        "if -1:\n",
        "  print(\"true\")\n",
        "else:\n",
        "  print(\"false\")"
      ],
      "execution_count": null,
      "outputs": [
        {
          "output_type": "stream",
          "text": [
            "true\n"
          ],
          "name": "stdout"
        }
      ]
    },
    {
      "cell_type": "code",
      "metadata": {
        "colab": {
          "base_uri": "https://localhost:8080/"
        },
        "id": "fJSjEDhDBH_P",
        "outputId": "df21d4dd-74e7-47b6-c6c9-1b0b6a367208"
      },
      "source": [
        "print(4 * 3 ** 2 // 3)"
      ],
      "execution_count": null,
      "outputs": [
        {
          "output_type": "stream",
          "text": [
            "12\n"
          ],
          "name": "stdout"
        }
      ]
    },
    {
      "cell_type": "code",
      "metadata": {
        "colab": {
          "base_uri": "https://localhost:8080/",
          "height": 197
        },
        "id": "ZTRLgfdPBa-6",
        "outputId": "21364388-ba4e-42e1-8b73-b0336ecd0a80"
      },
      "source": [
        "color_codes = {\n",
        "    \"blue\":\"blau\"\n",
        "}\n",
        "print(color_codes[\"blau\"])"
      ],
      "execution_count": null,
      "outputs": [
        {
          "output_type": "error",
          "ename": "KeyError",
          "evalue": "ignored",
          "traceback": [
            "\u001b[0;31m---------------------------------------------------------------------------\u001b[0m",
            "\u001b[0;31mKeyError\u001b[0m                                  Traceback (most recent call last)",
            "\u001b[0;32m<ipython-input-10-a7f0637a01c1>\u001b[0m in \u001b[0;36m<module>\u001b[0;34m()\u001b[0m\n\u001b[1;32m      2\u001b[0m     \u001b[0;34m\"blue\"\u001b[0m\u001b[0;34m:\u001b[0m\u001b[0;34m\"blau\"\u001b[0m\u001b[0;34m\u001b[0m\u001b[0;34m\u001b[0m\u001b[0m\n\u001b[1;32m      3\u001b[0m }\n\u001b[0;32m----> 4\u001b[0;31m \u001b[0mprint\u001b[0m\u001b[0;34m(\u001b[0m\u001b[0mcolor_codes\u001b[0m\u001b[0;34m[\u001b[0m\u001b[0;34m\"blau\"\u001b[0m\u001b[0;34m]\u001b[0m\u001b[0;34m)\u001b[0m\u001b[0;34m\u001b[0m\u001b[0;34m\u001b[0m\u001b[0m\n\u001b[0m",
            "\u001b[0;31mKeyError\u001b[0m: 'blau'"
          ]
        }
      ]
    },
    {
      "cell_type": "code",
      "metadata": {
        "colab": {
          "base_uri": "https://localhost:8080/"
        },
        "id": "Grs0F8bNBw3r",
        "outputId": "e1c4b180-fd30-4228-dd7c-e6d6c9d52061"
      },
      "source": [
        "int1 = 6\n",
        "def fn1():\n",
        "  global int1\n",
        "int2 = int1 *9\n",
        "print(int2)\n",
        "int1 = 2\n",
        "fn1()"
      ],
      "execution_count": null,
      "outputs": [
        {
          "output_type": "stream",
          "text": [
            "54\n"
          ],
          "name": "stdout"
        }
      ]
    },
    {
      "cell_type": "code",
      "metadata": {
        "colab": {
          "base_uri": "https://localhost:8080/"
        },
        "id": "iCgpMCmVCAo1",
        "outputId": "d02cd9a7-4d99-4a66-fa62-06f9fa605c32"
      },
      "source": [
        "alpha = [21,32,12]\n",
        "alpha.pop(1)\n",
        "print(alpha)"
      ],
      "execution_count": null,
      "outputs": [
        {
          "output_type": "stream",
          "text": [
            "[21, 12]\n"
          ],
          "name": "stdout"
        }
      ]
    },
    {
      "cell_type": "code",
      "metadata": {
        "colab": {
          "base_uri": "https://localhost:8080/",
          "height": 180
        },
        "id": "rDYdmu3_CMVJ",
        "outputId": "df187223-ae83-4fc0-cf1f-345e38ed86ca"
      },
      "source": [
        "listA = ['a', 'b', 'c']\n",
        "print(sum(listA))"
      ],
      "execution_count": null,
      "outputs": [
        {
          "output_type": "error",
          "ename": "TypeError",
          "evalue": "ignored",
          "traceback": [
            "\u001b[0;31m---------------------------------------------------------------------------\u001b[0m",
            "\u001b[0;31mTypeError\u001b[0m                                 Traceback (most recent call last)",
            "\u001b[0;32m<ipython-input-13-52ee8697a499>\u001b[0m in \u001b[0;36m<module>\u001b[0;34m()\u001b[0m\n\u001b[1;32m      1\u001b[0m \u001b[0mlistA\u001b[0m \u001b[0;34m=\u001b[0m \u001b[0;34m[\u001b[0m\u001b[0;34m'a'\u001b[0m\u001b[0;34m,\u001b[0m \u001b[0;34m'b'\u001b[0m\u001b[0;34m,\u001b[0m \u001b[0;34m'c'\u001b[0m\u001b[0;34m]\u001b[0m\u001b[0;34m\u001b[0m\u001b[0;34m\u001b[0m\u001b[0m\n\u001b[0;32m----> 2\u001b[0;31m \u001b[0mprint\u001b[0m\u001b[0;34m(\u001b[0m\u001b[0msum\u001b[0m\u001b[0;34m(\u001b[0m\u001b[0mlistA\u001b[0m\u001b[0;34m)\u001b[0m\u001b[0;34m)\u001b[0m\u001b[0;34m\u001b[0m\u001b[0;34m\u001b[0m\u001b[0m\n\u001b[0m",
            "\u001b[0;31mTypeError\u001b[0m: unsupported operand type(s) for +: 'int' and 'str'"
          ]
        }
      ]
    },
    {
      "cell_type": "code",
      "metadata": {
        "colab": {
          "base_uri": "https://localhost:8080/"
        },
        "id": "l9A-srviCVjA",
        "outputId": "4fc3adb4-b934-41ad-8eff-dc105e04e138"
      },
      "source": [
        "class test:\n",
        "  def __init__(self):\n",
        "    self.variable = 'one'\n",
        "    self.Change(self.variable)\n",
        "  def Change(self, var):\n",
        "    var = 'two'\n",
        "obj = test()\n",
        "print(obj.variable)"
      ],
      "execution_count": null,
      "outputs": [
        {
          "output_type": "stream",
          "text": [
            "one\n"
          ],
          "name": "stdout"
        }
      ]
    },
    {
      "cell_type": "code",
      "metadata": {
        "colab": {
          "base_uri": "https://localhost:8080/"
        },
        "id": "QheTZ7tVC-X1",
        "outputId": "ddeba34f-80d7-4211-d460-a5c24dd33f11"
      },
      "source": [
        "a = [812, 431]\n",
        "b = a \n",
        "b = [21, 629] + b\n",
        "print(a)\n",
        "print(b)"
      ],
      "execution_count": null,
      "outputs": [
        {
          "output_type": "stream",
          "text": [
            "[812, 431]\n",
            "[21, 629, 812, 431]\n"
          ],
          "name": "stdout"
        }
      ]
    },
    {
      "cell_type": "code",
      "metadata": {
        "colab": {
          "base_uri": "https://localhost:8080/"
        },
        "id": "vOQeMwa6DNMt",
        "outputId": "81c82f8c-0fed-424c-cf47-bf2766c4aa9e"
      },
      "source": [
        "print({1,2,3,4} & {4,5,6})"
      ],
      "execution_count": null,
      "outputs": [
        {
          "output_type": "stream",
          "text": [
            "{4}\n"
          ],
          "name": "stdout"
        }
      ]
    },
    {
      "cell_type": "code",
      "metadata": {
        "colab": {
          "base_uri": "https://localhost:8080/"
        },
        "id": "NDRBLKBdDZ67",
        "outputId": "92cb8cbf-3512-4fc9-9daf-811a3a4f3f7a"
      },
      "source": [
        "class foo:\n",
        "  def __init__(self,x ):\n",
        "    self.x = x \n",
        "  def __lt__(self, other):\n",
        "    if self.x < other.x:\n",
        "      return True\n",
        "    else:\n",
        "      return False\n",
        "a = foo(2)\n",
        "b = foo(3)\n",
        "print(a < b)"
      ],
      "execution_count": null,
      "outputs": [
        {
          "output_type": "stream",
          "text": [
            "True\n"
          ],
          "name": "stdout"
        }
      ]
    },
    {
      "cell_type": "code",
      "metadata": {
        "colab": {
          "base_uri": "https://localhost:8080/"
        },
        "id": "HCt50C6QD52O",
        "outputId": "4485a9e8-7126-4756-c78d-9c1393e19bbd"
      },
      "source": [
        "x = [947, 265]\n",
        "print(len(''.join(list(map(str,x)))))"
      ],
      "execution_count": null,
      "outputs": [
        {
          "output_type": "stream",
          "text": [
            "6\n"
          ],
          "name": "stdout"
        }
      ]
    },
    {
      "cell_type": "code",
      "metadata": {
        "colab": {
          "base_uri": "https://localhost:8080/"
        },
        "id": "sbw1-EciEFRM",
        "outputId": "87eb8695-e1d4-4fde-838d-5798cb97b4e6"
      },
      "source": [
        "class bags:\n",
        "  def __init__(self, price):\n",
        "    self.price = price\n",
        "obj = bags(100)\n",
        "obj.quantity = 50\n",
        "obj.books = 2\n",
        "print(obj.quantity + len(obj.__dict__))"
      ],
      "execution_count": null,
      "outputs": [
        {
          "output_type": "stream",
          "text": [
            "53\n"
          ],
          "name": "stdout"
        }
      ]
    },
    {
      "cell_type": "code",
      "metadata": {
        "colab": {
          "base_uri": "https://localhost:8080/"
        },
        "id": "JgoanOkCEaNR",
        "outputId": "d1816392-d9c8-473c-de45-53d1856057e8"
      },
      "source": [
        "class A():\n",
        "  def __init__(self, bound=63):\n",
        "    self.bound = bound\n",
        "obj1 =A()\n",
        "obj2 = A(42)\n",
        "print(obj1.bound)\n",
        "print(obj2.bound)"
      ],
      "execution_count": null,
      "outputs": [
        {
          "output_type": "stream",
          "text": [
            "63\n",
            "42\n"
          ],
          "name": "stdout"
        }
      ]
    },
    {
      "cell_type": "code",
      "metadata": {
        "colab": {
          "base_uri": "https://localhost:8080/"
        },
        "id": "3OX4RMg5E090",
        "outputId": "5e5c339f-e1a2-4e8f-a56d-73ffb02eb1fa"
      },
      "source": [
        "class Emp:\n",
        "  def __init__(self, name, id):\n",
        "    self.name = name\n",
        "    self.id = id\n",
        "    print(self.id)\n",
        "obj = Emp(\"R\", 1)\n",
        "obj.id = 2\n",
        "print(obj.id)\n",
        "\n"
      ],
      "execution_count": null,
      "outputs": [
        {
          "output_type": "stream",
          "text": [
            "1\n",
            "2\n"
          ],
          "name": "stdout"
        }
      ]
    },
    {
      "cell_type": "code",
      "metadata": {
        "colab": {
          "base_uri": "https://localhost:8080/",
          "height": 384
        },
        "id": "XTCu2bSbFPdd",
        "outputId": "18ad2368-9a95-4cff-cf20-e0713bad7c40"
      },
      "source": [
        "try:\n",
        "  if ' 5 ' != 5:\n",
        "    raise \"Wel\"\n",
        "  else:\n",
        "    print(\"Else\")\n",
        "except \"Wel\":\n",
        "  print(\"if\")"
      ],
      "execution_count": null,
      "outputs": [
        {
          "output_type": "error",
          "ename": "TypeError",
          "evalue": "ignored",
          "traceback": [
            "\u001b[0;31m---------------------------------------------------------------------------\u001b[0m",
            "\u001b[0;31mTypeError\u001b[0m                                 Traceback (most recent call last)",
            "\u001b[0;32m<ipython-input-25-558050c1b831>\u001b[0m in \u001b[0;36m<module>\u001b[0;34m()\u001b[0m\n\u001b[1;32m      2\u001b[0m   \u001b[0;32mif\u001b[0m \u001b[0;34m' 5 '\u001b[0m \u001b[0;34m!=\u001b[0m \u001b[0;36m5\u001b[0m\u001b[0;34m:\u001b[0m\u001b[0;34m\u001b[0m\u001b[0;34m\u001b[0m\u001b[0m\n\u001b[0;32m----> 3\u001b[0;31m     \u001b[0;32mraise\u001b[0m \u001b[0;34m\"Wel\"\u001b[0m\u001b[0;34m\u001b[0m\u001b[0;34m\u001b[0m\u001b[0m\n\u001b[0m\u001b[1;32m      4\u001b[0m   \u001b[0;32melse\u001b[0m\u001b[0;34m:\u001b[0m\u001b[0;34m\u001b[0m\u001b[0;34m\u001b[0m\u001b[0m\n",
            "\u001b[0;31mTypeError\u001b[0m: exceptions must derive from BaseException",
            "\nDuring handling of the above exception, another exception occurred:\n",
            "\u001b[0;31mTypeError\u001b[0m                                 Traceback (most recent call last)",
            "\u001b[0;32m<ipython-input-25-558050c1b831>\u001b[0m in \u001b[0;36m<module>\u001b[0;34m()\u001b[0m\n\u001b[1;32m      4\u001b[0m   \u001b[0;32melse\u001b[0m\u001b[0;34m:\u001b[0m\u001b[0;34m\u001b[0m\u001b[0;34m\u001b[0m\u001b[0m\n\u001b[1;32m      5\u001b[0m     \u001b[0mprint\u001b[0m\u001b[0;34m(\u001b[0m\u001b[0;34m\"Else\"\u001b[0m\u001b[0;34m)\u001b[0m\u001b[0;34m\u001b[0m\u001b[0;34m\u001b[0m\u001b[0m\n\u001b[0;32m----> 6\u001b[0;31m \u001b[0;32mexcept\u001b[0m \u001b[0;34m\"Wel\"\u001b[0m\u001b[0;34m:\u001b[0m\u001b[0;34m\u001b[0m\u001b[0;34m\u001b[0m\u001b[0m\n\u001b[0m\u001b[1;32m      7\u001b[0m   \u001b[0mprint\u001b[0m\u001b[0;34m(\u001b[0m\u001b[0;34m\"if\"\u001b[0m\u001b[0;34m)\u001b[0m\u001b[0;34m\u001b[0m\u001b[0;34m\u001b[0m\u001b[0m\n",
            "\u001b[0;31mTypeError\u001b[0m: catching classes that do not inherit from BaseException is not allowed"
          ]
        }
      ]
    },
    {
      "cell_type": "code",
      "metadata": {
        "colab": {
          "base_uri": "https://localhost:8080/"
        },
        "id": "ZTNodxGVFnSu",
        "outputId": "f1460ff2-73fd-4a94-a8c8-f4f474a4953d"
      },
      "source": [
        "class Demo:\n",
        "  def __init__(self):\n",
        "    pass\n",
        "  def test(self):\n",
        "    print(__name__)\n",
        "obj = Demo()\n",
        "obj.test()"
      ],
      "execution_count": null,
      "outputs": [
        {
          "output_type": "stream",
          "text": [
            "__main__\n"
          ],
          "name": "stdout"
        }
      ]
    },
    {
      "cell_type": "code",
      "metadata": {
        "colab": {
          "base_uri": "https://localhost:8080/"
        },
        "id": "8KzVlnxtF5mO",
        "outputId": "bcc1f377-4ac9-4ae3-f282-f937bc1188f3"
      },
      "source": [
        "print('\\t'.isspace())"
      ],
      "execution_count": null,
      "outputs": [
        {
          "output_type": "stream",
          "text": [
            "True\n"
          ],
          "name": "stdout"
        }
      ]
    },
    {
      "cell_type": "code",
      "metadata": {
        "colab": {
          "base_uri": "https://localhost:8080/"
        },
        "id": "JAvw7WbWJviH",
        "outputId": "7fae3230-224d-4d00-d3dc-d0ad2fe6850d"
      },
      "source": [
        "print(type(42.0))"
      ],
      "execution_count": null,
      "outputs": [
        {
          "output_type": "stream",
          "text": [
            "<class 'float'>\n"
          ],
          "name": "stdout"
        }
      ]
    },
    {
      "cell_type": "code",
      "metadata": {
        "colab": {
          "base_uri": "https://localhost:8080/",
          "height": 163
        },
        "id": "KHt3Yll5J73_",
        "outputId": "260abbfa-06e4-4d0f-bea5-d53e062dd96f"
      },
      "source": [
        "print(float('fifty-two and a half'))"
      ],
      "execution_count": null,
      "outputs": [
        {
          "output_type": "error",
          "ename": "ValueError",
          "evalue": "ignored",
          "traceback": [
            "\u001b[0;31m---------------------------------------------------------------------------\u001b[0m",
            "\u001b[0;31mValueError\u001b[0m                                Traceback (most recent call last)",
            "\u001b[0;32m<ipython-input-2-b9cb9852cf6e>\u001b[0m in \u001b[0;36m<module>\u001b[0;34m()\u001b[0m\n\u001b[0;32m----> 1\u001b[0;31m \u001b[0mprint\u001b[0m\u001b[0;34m(\u001b[0m\u001b[0mfloat\u001b[0m\u001b[0;34m(\u001b[0m\u001b[0;34m'fifty-two and a half'\u001b[0m\u001b[0;34m)\u001b[0m\u001b[0;34m)\u001b[0m\u001b[0;34m\u001b[0m\u001b[0;34m\u001b[0m\u001b[0m\n\u001b[0m",
            "\u001b[0;31mValueError\u001b[0m: could not convert string to float: 'fifty-two and a half'"
          ]
        }
      ]
    },
    {
      "cell_type": "code",
      "metadata": {
        "colab": {
          "base_uri": "https://localhost:8080/"
        },
        "id": "WmBMbhgDKx5A",
        "outputId": "935409b1-2c55-4649-ffbd-005e5279fdcf"
      },
      "source": [
        "x = 2.5e6\n",
        "print(x)"
      ],
      "execution_count": null,
      "outputs": [
        {
          "output_type": "stream",
          "text": [
            "2500000.0\n"
          ],
          "name": "stdout"
        }
      ]
    },
    {
      "cell_type": "code",
      "metadata": {
        "colab": {
          "base_uri": "https://localhost:8080/"
        },
        "id": "VydemR5NK7Sb",
        "outputId": "25a5a7a9-3c95-482c-d206-05b8662ffaa7"
      },
      "source": [
        "A = 5\n",
        "B = 6\n",
        "if A == 127 or B!=18:\n",
        "  print('True')\n",
        "else:\n",
        "  print('No')"
      ],
      "execution_count": null,
      "outputs": [
        {
          "output_type": "stream",
          "text": [
            "True\n"
          ],
          "name": "stdout"
        }
      ]
    },
    {
      "cell_type": "code",
      "metadata": {
        "colab": {
          "base_uri": "https://localhost:8080/"
        },
        "id": "SEFqFz41Licw",
        "outputId": "4f6ba4ac-e41f-4d4b-c690-823eecd44092"
      },
      "source": [
        "for i in range(1,5):\n",
        "  print(i, 'multiplied by 8 = ', i * 8)"
      ],
      "execution_count": null,
      "outputs": [
        {
          "output_type": "stream",
          "text": [
            "1 multiplied by 8 =  8\n",
            "2 multiplied by 8 =  16\n",
            "3 multiplied by 8 =  24\n",
            "4 multiplied by 8 =  32\n"
          ],
          "name": "stdout"
        }
      ]
    },
    {
      "cell_type": "code",
      "metadata": {
        "colab": {
          "base_uri": "https://localhost:8080/"
        },
        "id": "wguc5NUdMSeO",
        "outputId": "8679f42c-0ad3-4b43-fc26-dfa12abc475e"
      },
      "source": [
        "count = 0\n",
        "for a in range(0,2):\n",
        "    for b in range(0,2):\n",
        "        for c in range(0,2):\n",
        "            for d in range(0,2):\n",
        "                for g in range(0,2):\n",
        "                   for f in range(0,2):\n",
        "                     count += 1\n",
        "                     print('count is-', count)\n"
      ],
      "execution_count": null,
      "outputs": [
        {
          "output_type": "stream",
          "text": [
            "count is- 1\n",
            "count is- 2\n",
            "count is- 3\n",
            "count is- 4\n",
            "count is- 5\n",
            "count is- 6\n",
            "count is- 7\n",
            "count is- 8\n",
            "count is- 9\n",
            "count is- 10\n",
            "count is- 11\n",
            "count is- 12\n",
            "count is- 13\n",
            "count is- 14\n",
            "count is- 15\n",
            "count is- 16\n",
            "count is- 17\n",
            "count is- 18\n",
            "count is- 19\n",
            "count is- 20\n",
            "count is- 21\n",
            "count is- 22\n",
            "count is- 23\n",
            "count is- 24\n",
            "count is- 25\n",
            "count is- 26\n",
            "count is- 27\n",
            "count is- 28\n",
            "count is- 29\n",
            "count is- 30\n",
            "count is- 31\n",
            "count is- 32\n",
            "count is- 33\n",
            "count is- 34\n",
            "count is- 35\n",
            "count is- 36\n",
            "count is- 37\n",
            "count is- 38\n",
            "count is- 39\n",
            "count is- 40\n",
            "count is- 41\n",
            "count is- 42\n",
            "count is- 43\n",
            "count is- 44\n",
            "count is- 45\n",
            "count is- 46\n",
            "count is- 47\n",
            "count is- 48\n",
            "count is- 49\n",
            "count is- 50\n",
            "count is- 51\n",
            "count is- 52\n",
            "count is- 53\n",
            "count is- 54\n",
            "count is- 55\n",
            "count is- 56\n",
            "count is- 57\n",
            "count is- 58\n",
            "count is- 59\n",
            "count is- 60\n",
            "count is- 61\n",
            "count is- 62\n",
            "count is- 63\n",
            "count is- 64\n"
          ],
          "name": "stdout"
        }
      ]
    },
    {
      "cell_type": "markdown",
      "metadata": {
        "id": "nSuvjIfYO7cF"
      },
      "source": [
        "Imagine a square chessboard. \n",
        "\n",
        "The queen (or queen) can move vertically, horizontally and diagonally any number of cells. \n",
        "\n",
        "Based on the coordinates of the two squares, determine whether the queen can move from the first to the second in one move. If it can, print YES. Otherwise, print NO. The program gets 4 whole numbers from 1 to 8. The first and the second one give the column and the row for the first square, the third and the fourth for the second square.   \n",
        "\n",
        " \n",
        "\n",
        "Entry example #1\n",
        "\n",
        "1\n",
        "\n",
        "1\n",
        "\n",
        "2\n",
        "\n",
        "2\n",
        "\n",
        "Example result #1\n",
        "\n",
        "YES\n",
        "\n",
        "Entry example #2\n",
        "\n",
        "1\n",
        "\n",
        "1\n",
        "\n",
        "8\n",
        "\n",
        "2\n",
        "\n",
        "Example result #2\n",
        "\n",
        "NO"
      ]
    },
    {
      "cell_type": "markdown",
      "metadata": {
        "id": "IRo_EpreO9ME"
      },
      "source": [
        "Write a program that asks the user for the number of lines for the entered poem. It then allows the user to enter the desired number of lines.\n",
        "\n",
        "Then output the number of lines, vowels and consonants in the poem and in each line.\n",
        "\n",
        "For simplicity, let us enter the poem in small English letters only. \n",
        "\n",
        "Input example: \n",
        "\n",
        "How many lines will there be? 4\n",
        "\n",
        "Once there was an elephant,\n",
        "Who tried to use the telephant\n",
        "No! No! I mean an elephone\n",
        "Who tried to use the telephone\n",
        "\n",
        "Example result: \n",
        "\n",
        "Number of vowels: 40\n",
        "\n",
        "Number of consonants: 51\n",
        "\n"
      ]
    },
    {
      "cell_type": "markdown",
      "metadata": {
        "id": "BlNfR_0jPKJT"
      },
      "source": [
        ""
      ]
    },
    {
      "cell_type": "markdown",
      "metadata": {
        "id": "yE5sKwd-PKLr"
      },
      "source": [
        "A list of integers is given. It is required to \"shrink\" it by moving all non-zero elements to the left side of the list without changing their order, and all zeros to the right side. \n",
        "\n",
        "The order of the non-zero elements cannot be changed, an additional list cannot be used, and the task must be completed in one pass through the list. Print the resulting list.\n",
        "\n",
        "Example input data:\n",
        "4 0 5 0 3 0 0 5 \n",
        "\n",
        "Example result: \n",
        "\n",
        "4 5 3 5 0 0 0 0\n",
        "\n",
        "Important. The isalpha operator may not work on the platform. If you use it in your solution, write it in the code comments :)"
      ]
    },
    {
      "cell_type": "code",
      "metadata": {
        "colab": {
          "base_uri": "https://localhost:8080/"
        },
        "id": "bbFVu2ff5Rog",
        "outputId": "b187509f-5102-481d-c800-3b50f1b56bfe"
      },
      "source": [
        "def fun( a, b):\n",
        "  if(b == 0):\n",
        "    return a;\n",
        "  else:\n",
        "    return(fun(b, a%b))\n",
        "fun(4,6)"
      ],
      "execution_count": null,
      "outputs": [
        {
          "output_type": "execute_result",
          "data": {
            "text/plain": [
              "2"
            ]
          },
          "metadata": {
            "tags": []
          },
          "execution_count": 4
        }
      ]
    },
    {
      "cell_type": "code",
      "metadata": {
        "colab": {
          "base_uri": "https://localhost:8080/",
          "height": 128
        },
        "id": "3G7qIF9755v2",
        "outputId": "196efcf7-cc36-4c6d-ee40-0eb0894dc5fb"
      },
      "source": [
        "#i ,j\n",
        "for(i = 0, j = 5; i<j; i++, j--):\n",
        "  print(\"%d %d\", i , j)\n",
        "return 0;\n",
        "\n",
        "'''\n",
        "int main()\n",
        "{\n",
        "    \n",
        "    int i, j;\n",
        "    for(i=0, j=5; i<j; i++, j--);\n",
        "        printf(\"%d%d\", i,j);\n",
        "    \n",
        "    \n",
        "\n",
        "    return 0;\n",
        "}\n",
        "\n",
        "--Output 32\n",
        "'''"
      ],
      "execution_count": null,
      "outputs": [
        {
          "output_type": "error",
          "ename": "SyntaxError",
          "evalue": "ignored",
          "traceback": [
            "\u001b[0;36m  File \u001b[0;32m\"<ipython-input-7-d960c34d968a>\"\u001b[0;36m, line \u001b[0;32m2\u001b[0m\n\u001b[0;31m    for(i =0, j = 5; i<j; i++, j--):\u001b[0m\n\u001b[0m          ^\u001b[0m\n\u001b[0;31mSyntaxError\u001b[0m\u001b[0;31m:\u001b[0m invalid syntax\n"
          ]
        }
      ]
    }
  ]
}