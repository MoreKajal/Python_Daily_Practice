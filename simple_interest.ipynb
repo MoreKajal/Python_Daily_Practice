{
  "nbformat": 4,
  "nbformat_minor": 0,
  "metadata": {
    "colab": {
      "name": "simple_interest.ipynb",
      "provenance": [],
      "authorship_tag": "ABX9TyPj/PQ8tCjkD/ZCBS3dm87F",
      "include_colab_link": true
    },
    "kernelspec": {
      "name": "python3",
      "display_name": "Python 3"
    },
    "language_info": {
      "name": "python"
    }
  },
  "cells": [
    {
      "cell_type": "markdown",
      "metadata": {
        "id": "view-in-github",
        "colab_type": "text"
      },
      "source": [
        "<a href=\"https://colab.research.google.com/github/MoreKajal/Python_Daily_Practice/blob/main/simple_interest.ipynb\" target=\"_parent\"><img src=\"https://colab.research.google.com/assets/colab-badge.svg\" alt=\"Open In Colab\"/></a>"
      ]
    },
    {
      "cell_type": "markdown",
      "metadata": {
        "id": "-fXGxJPm5maP"
      },
      "source": [
        "Simple Interest is given as [ P * N * R ] / 100\n",
        "where P - Principla amount\n",
        "      N - Time duration\n",
        "      R - Rate of Interest\n",
        "      "
      ]
    },
    {
      "cell_type": "code",
      "metadata": {
        "id": "ZHLmV25nPknG",
        "colab": {
          "base_uri": "https://localhost:8080/"
        },
        "outputId": "6649e573-3f02-426b-90ac-eb5fe695b11a"
      },
      "source": [
        "p = int(input('Enter Principal amount : '))\n",
        "n = int(input('Enter time period : '))\n",
        "r = int(input('Enter rate of interest : '))\n",
        "\n",
        "si = (p * n * r ) / 100\n",
        "print('The simple interest calculated is : ', si)"
      ],
      "execution_count": null,
      "outputs": [
        {
          "output_type": "stream",
          "text": [
            "Enter Principal amount : 30000\n",
            "Enter time period : 1\n",
            "Enter rate of interest : 7\n",
            "The simple interest calculated is :  2100.0\n"
          ],
          "name": "stdout"
        }
      ]
    },
    {
      "cell_type": "code",
      "metadata": {
        "colab": {
          "base_uri": "https://localhost:8080/"
        },
        "id": "UltUIHtOML_G",
        "outputId": "47e868f4-5a41-4724-cf96-72f25076ca56"
      },
      "source": [
        "#To make it more genealised\n",
        "\n",
        "def simple_interest(p,n,r):\n",
        "  print('Principal amount : ', p)\n",
        "  print('time period : ', n)\n",
        "  print('rate of interest : ', r)\n",
        "  '''\n",
        "  int(input('Enter Principal amount : '))\n",
        "  int(input('Enter time period : '))\n",
        "  float(input('Enter rate of interest : '))\n",
        "  '''\n",
        "  si = (p * n * r ) / 100\n",
        "  print('The simple interest calculated is : ', si)\n",
        "\n",
        "  return si\n",
        "\n",
        "simple_interest(10000, 2, 6)\n"
      ],
      "execution_count": null,
      "outputs": [
        {
          "output_type": "stream",
          "text": [
            "Principal amount :  10000\n",
            "time period :  2\n",
            "rate of interest :  6\n",
            "The simple interest calculated is :  1200.0\n"
          ],
          "name": "stdout"
        },
        {
          "output_type": "execute_result",
          "data": {
            "text/plain": [
              "1200.0"
            ]
          },
          "metadata": {
            "tags": []
          },
          "execution_count": 2
        }
      ]
    }
  ]
}