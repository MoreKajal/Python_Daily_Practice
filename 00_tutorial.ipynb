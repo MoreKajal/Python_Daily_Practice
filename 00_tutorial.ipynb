{
 "cells": [
  {
   "cell_type": "code",
   "execution_count": 1,
   "id": "26d449cb",
   "metadata": {
    "scrolled": true
   },
   "outputs": [
    {
     "name": "stdout",
     "output_type": "stream",
     "text": [
      "What's your name : Virat\n",
      "What's your favorite color ?Blue\n",
      "Virat likes Blue\n"
     ]
    }
   ],
   "source": [
    "name = input(\"What's your name : \" )\n",
    "color = input(\"What's your favorite color ?\")\n",
    "print(name + ' likes ' + color)"
   ]
  },
  {
   "cell_type": "markdown",
   "id": "6dd5c965",
   "metadata": {},
   "source": [
    "### Type Conversion"
   ]
  },
  {
   "cell_type": "code",
   "execution_count": 2,
   "id": "d5ae16c8",
   "metadata": {},
   "outputs": [
    {
     "name": "stdout",
     "output_type": "stream",
     "text": [
      "Birth year : 1987\n",
      "My age is :  35\n",
      "<class 'str'>\n",
      "<class 'int'>\n"
     ]
    }
   ],
   "source": [
    "birth_year = input('Birth year : ')\n",
    "age = 2022 - int(birth_year)      #conv a str variable to int\n",
    "print('My age is : ', age)\n",
    "\n",
    "print(type(birth_year))\n",
    "print(type(age))"
   ]
  },
  {
   "cell_type": "markdown",
   "id": "22856d59",
   "metadata": {},
   "source": [
    "### Formatted strings"
   ]
  },
  {
   "cell_type": "code",
   "execution_count": 3,
   "id": "68a44da1",
   "metadata": {},
   "outputs": [
    {
     "name": "stdout",
     "output_type": "stream",
     "text": [
      "[ Virat ] Kohali is a Cricketer\n",
      "[Virat] Kohali is a Cricketer\n"
     ]
    },
    {
     "data": {
      "text/plain": [
       "'[Virat] Kohali is a Cricketer'"
      ]
     },
     "execution_count": 3,
     "metadata": {},
     "output_type": "execute_result"
    }
   ],
   "source": [
    "# Add a message or information between\n",
    "first = 'Virat'\n",
    "last = 'Kohali'\n",
    "message = '[ ' + first + ' ] ' + last + \" is a Cricketer\"\n",
    "print(message)\n",
    "\n",
    "# Now using formatted string\n",
    "msg = f'[{first}] {last} is a Cricketer'\n",
    "print(msg)\n",
    "msg          # just putting a variable to print will give value in ' '"
   ]
  },
  {
   "cell_type": "markdown",
   "id": "9bcb0754",
   "metadata": {},
   "source": [
    "### String Methods"
   ]
  },
  {
   "cell_type": "code",
   "execution_count": 4,
   "id": "61b0db70",
   "metadata": {},
   "outputs": [
    {
     "name": "stdout",
     "output_type": "stream",
     "text": [
      "22\n"
     ]
    }
   ],
   "source": [
    "# len()\n",
    "\n",
    "#To calculate the length of the string\n",
    "\n",
    "var = 'This is a demo session'\n",
    "print(len(var))"
   ]
  },
  {
   "cell_type": "code",
   "execution_count": 5,
   "id": "9895aeec",
   "metadata": {},
   "outputs": [
    {
     "data": {
      "text/plain": [
       "'THIS IS A DEMO SESSION'"
      ]
     },
     "execution_count": 5,
     "metadata": {},
     "output_type": "execute_result"
    }
   ],
   "source": [
    "# .methods()\n",
    "\n",
    "# . is used when the function belongs to specific category; these are called as methods\n",
    "# hit tab after var. ; will get all available methods\n",
    "var.upper()"
   ]
  },
  {
   "cell_type": "code",
   "execution_count": 6,
   "id": "5fb84e79",
   "metadata": {},
   "outputs": [
    {
     "data": {
      "text/plain": [
       "'This is a demo session'"
      ]
     },
     "execution_count": 6,
     "metadata": {},
     "output_type": "execute_result"
    }
   ],
   "source": [
    " var.capitalize()"
   ]
  },
  {
   "cell_type": "code",
   "execution_count": 7,
   "id": "a0e2c967",
   "metadata": {},
   "outputs": [
    {
     "data": {
      "text/plain": [
       "'this is a demo session'"
      ]
     },
     "execution_count": 7,
     "metadata": {},
     "output_type": "execute_result"
    }
   ],
   "source": [
    "var.casefold()"
   ]
  },
  {
   "cell_type": "code",
   "execution_count": 8,
   "id": "0b7f5585",
   "metadata": {},
   "outputs": [
    {
     "data": {
      "text/plain": [
       "'this is a demo session'"
      ]
     },
     "execution_count": 8,
     "metadata": {},
     "output_type": "execute_result"
    }
   ],
   "source": [
    "var.lower()"
   ]
  },
  {
   "cell_type": "code",
   "execution_count": 9,
   "id": "ad58e4fe",
   "metadata": {},
   "outputs": [
    {
     "data": {
      "text/plain": [
       "10"
      ]
     },
     "execution_count": 9,
     "metadata": {},
     "output_type": "execute_result"
    }
   ],
   "source": [
    "var.find('d')    #case sensitive"
   ]
  },
  {
   "cell_type": "code",
   "execution_count": 10,
   "id": "b5ac4f2a",
   "metadata": {},
   "outputs": [
    {
     "data": {
      "text/plain": [
       "'This is a demo session'"
      ]
     },
     "execution_count": 10,
     "metadata": {},
     "output_type": "execute_result"
    }
   ],
   "source": [
    "var    # the methods returns new string after modification keeping the original string as it is"
   ]
  },
  {
   "cell_type": "code",
   "execution_count": 11,
   "id": "9594d14d",
   "metadata": {},
   "outputs": [
    {
     "data": {
      "text/plain": [
       "10"
      ]
     },
     "execution_count": 11,
     "metadata": {},
     "output_type": "execute_result"
    }
   ],
   "source": [
    "# to find a word\n",
    "var.find('demo')"
   ]
  },
  {
   "cell_type": "code",
   "execution_count": 12,
   "id": "5a70b4a8",
   "metadata": {},
   "outputs": [
    {
     "data": {
      "text/plain": [
       "'This is a demo Tutorial'"
      ]
     },
     "execution_count": 12,
     "metadata": {},
     "output_type": "execute_result"
    }
   ],
   "source": [
    "# To replace words or letter\n",
    "\n",
    "var.replace('session', 'Tutorial')"
   ]
  },
  {
   "cell_type": "code",
   "execution_count": 13,
   "id": "cf9af324",
   "metadata": {},
   "outputs": [
    {
     "data": {
      "text/plain": [
       "True"
      ]
     },
     "execution_count": 13,
     "metadata": {},
     "output_type": "execute_result"
    }
   ],
   "source": [
    "# Search for letter or word in string using 'in' , returns boolean\n",
    "'demo' in var"
   ]
  },
  {
   "cell_type": "code",
   "execution_count": null,
   "id": "894a317d",
   "metadata": {},
   "outputs": [],
   "source": []
  }
 ],
 "metadata": {
  "kernelspec": {
   "display_name": "Python 3 (ipykernel)",
   "language": "python",
   "name": "python3"
  },
  "language_info": {
   "codemirror_mode": {
    "name": "ipython",
    "version": 3
   },
   "file_extension": ".py",
   "mimetype": "text/x-python",
   "name": "python",
   "nbconvert_exporter": "python",
   "pygments_lexer": "ipython3",
   "version": "3.9.0"
  }
 },
 "nbformat": 4,
 "nbformat_minor": 5
}
