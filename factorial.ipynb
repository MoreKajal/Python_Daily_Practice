{
  "nbformat": 4,
  "nbformat_minor": 0,
  "metadata": {
    "colab": {
      "name": "factorial.ipynb",
      "provenance": [],
      "authorship_tag": "ABX9TyNwlpzBZ8daOCimSguu0eJ5",
      "include_colab_link": true
    },
    "kernelspec": {
      "name": "python3",
      "display_name": "Python 3"
    },
    "language_info": {
      "name": "python"
    }
  },
  "cells": [
    {
      "cell_type": "markdown",
      "metadata": {
        "id": "view-in-github",
        "colab_type": "text"
      },
      "source": [
        "<a href=\"https://colab.research.google.com/github/MoreKajal/Python_Daily_Practice/blob/main/factorial.ipynb\" target=\"_parent\"><img src=\"https://colab.research.google.com/assets/colab-badge.svg\" alt=\"Open In Colab\"/></a>"
      ]
    },
    {
      "cell_type": "markdown",
      "metadata": {
        "id": "E7NSBl-LIWUj"
      },
      "source": [
        "Factorial Program\n",
        "Factorial of an Integer 'n' is the Multiplication of all the smaller than or equal to 'n'.\n",
        "\n",
        "n! = n * (n-1) * (n-2) * (n-3) * .... * 1\n",
        "\n",
        "Note : Factorial of non-positive number is 0 , and for 0 and 1 it is equal to 1"
      ]
    },
    {
      "cell_type": "code",
      "metadata": {
        "colab": {
          "base_uri": "https://localhost:8080/"
        },
        "id": "gccAVoLPHbPT",
        "outputId": "4253fbae-770c-4305-c87b-b7d0d2c23d5a"
      },
      "source": [
        "#Define a function\n",
        "\n",
        "def factorial(n):\n",
        "  if n < 0:\n",
        "    return 0\n",
        "  elif n==0 or n ==1:\n",
        "    return 1\n",
        "  else:\n",
        "    fact = 1        #predefine a variable\n",
        "    while (n > 1):  #Check for n\n",
        "      fact *= n     #variable fact is updated by multiplying with current n value\n",
        "      n -= 1        #decrement n by 1\n",
        "    return fact\n",
        "\n",
        "n = 6\n",
        "#n = input('Enter a number to calculate n! : ')      #taking an input from user generates an error\n",
        "print('factorial of {0} is {1}'.format(n, factorial(n)))"
      ],
      "execution_count": null,
      "outputs": [
        {
          "output_type": "stream",
          "text": [
            "factorial of 6 is 720\n"
          ],
          "name": "stdout"
        }
      ]
    },
    {
      "cell_type": "code",
      "metadata": {
        "colab": {
          "base_uri": "https://localhost:8080/"
        },
        "id": "CCqyGFK6My_S",
        "outputId": "c7ae4448-c235-4f6f-a000-f43123ebf181"
      },
      "source": [
        "# Same code using Comprehension\n",
        "\n",
        "def factorial(n):\n",
        "  return 1 if (n == 1 or n == 0) else n * factorial(n-1)\n",
        "\n",
        "n = 6\n",
        "print(\"Factorial of given n is :\", factorial(n))"
      ],
      "execution_count": null,
      "outputs": [
        {
          "output_type": "stream",
          "text": [
            "Factorial of given n is : 720\n"
          ],
          "name": "stdout"
        }
      ]
    },
    {
      "cell_type": "code",
      "metadata": {
        "colab": {
          "base_uri": "https://localhost:8080/"
        },
        "id": "6Ecqf9mkNsAX",
        "outputId": "3dc25d0c-a41c-4c09-d114-d40d0eae8885"
      },
      "source": [
        "#Using math.factorial function\n",
        "\n",
        "import math\n",
        "def factorial(n):\n",
        "  return(math.factorial(n))\n",
        "\n",
        "n= 8\n",
        "print(\"Factorial of given n is :\", factorial(n))"
      ],
      "execution_count": null,
      "outputs": [
        {
          "output_type": "stream",
          "text": [
            "Factorial of given n is : 40320\n"
          ],
          "name": "stdout"
        }
      ]
    }
  ]
}