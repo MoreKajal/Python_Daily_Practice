{
  "nbformat": 4,
  "nbformat_minor": 0,
  "metadata": {
    "colab": {
      "name": "Interview Questions.ipynb",
      "provenance": [],
      "collapsed_sections": [],
      "authorship_tag": "ABX9TyMFMa/3Js9fI8iVRZ8gK65T",
      "include_colab_link": true
    },
    "kernelspec": {
      "name": "python3",
      "display_name": "Python 3"
    },
    "language_info": {
      "name": "python"
    }
  },
  "cells": [
    {
      "cell_type": "markdown",
      "metadata": {
        "id": "view-in-github",
        "colab_type": "text"
      },
      "source": [
        "<a href=\"https://colab.research.google.com/github/MoreKajal/Python_Daily_Practice/blob/main/Interview_Questions.ipynb\" target=\"_parent\"><img src=\"https://colab.research.google.com/assets/colab-badge.svg\" alt=\"Open In Colab\"/></a>"
      ]
    },
    {
      "cell_type": "markdown",
      "metadata": {
        "id": "IDdSf9MQsMdU"
      },
      "source": [
        "#What are Features of Python\n",
        "\n",
        "It is an Interpreted Language. (i.e, it does not need to be compile)\n",
        "It is Dynamically Typed. (i.e, don't need to state type of variable)\n",
        "It is Object oriented programming language, but does not have access specifiers like public, private."
      ]
    },
    {
      "cell_type": "markdown",
      "metadata": {
        "id": "mbaGXxCOl8F2"
      },
      "source": [
        "# What is the difference between List and Tuples\n",
        "\n",
        "List:\n",
        "List are MUTATED, i.e can be edited.\n",
        "Lists are SLOWER than tuples.\n",
        "Syntax is []\n",
        "myList = [20, 'Hello', 5]\n",
        "\n",
        "Tuple:\n",
        "Tuples are IMMUTABLE, i.e cannot be edited.\n",
        "FASTER than List.\n",
        "Syntax is ().\n",
        "myTuple = (20, 'Hello')\n",
        "\n",
        "\n"
      ]
    },
    {
      "cell_type": "code",
      "metadata": {
        "id": "IGHGHiJWljik"
      },
      "source": [
        "\n",
        "\n"
      ],
      "execution_count": null,
      "outputs": []
    }
  ]
}