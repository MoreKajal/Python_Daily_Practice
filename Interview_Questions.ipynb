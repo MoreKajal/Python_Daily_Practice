{
  "nbformat": 4,
  "nbformat_minor": 0,
  "metadata": {
    "colab": {
      "name": "Interview Questions.ipynb",
      "provenance": [],
      "collapsed_sections": [],
      "authorship_tag": "ABX9TyMDyIR5Egoaudv0iXJSxNRR",
      "include_colab_link": true
    },
    "kernelspec": {
      "name": "python3",
      "display_name": "Python 3"
    },
    "language_info": {
      "name": "python"
    }
  },
  "cells": [
    {
      "cell_type": "markdown",
      "metadata": {
        "id": "view-in-github",
        "colab_type": "text"
      },
      "source": [
        "<a href=\"https://colab.research.google.com/github/MoreKajal/Python_Daily_Practice/blob/main/Interview_Questions.ipynb\" target=\"_parent\"><img src=\"https://colab.research.google.com/assets/colab-badge.svg\" alt=\"Open In Colab\"/></a>"
      ]
    },
    {
      "cell_type": "markdown",
      "metadata": {
        "id": "IDdSf9MQsMdU"
      },
      "source": [
        "#What are Features of Python\n",
        "\n",
        "It is an Interpreted Language. (i.e, it does not need to be compile)\n",
        "It is Dynamically Typed. (i.e, don't need to state type of variable)\n",
        "It is Object oriented programming language, but does not have access specifiers like public, private."
      ]
    },
    {
      "cell_type": "markdown",
      "metadata": {
        "id": "mbaGXxCOl8F2"
      },
      "source": [
        "# What is the difference between List and Tuples\n",
        "Built in data structures in python \n",
        "\n",
        "List:\n",
        "List are MUTATED, i.e can be edited.\n",
        "Lists are SLOWER than tuples.\n",
        "Syntax is []\n",
        "myList = [20, 'Hello', 5]\n",
        "Can modify list by add, append, remove, pop\n",
        "\n",
        "Tuple:\n",
        "Tuples are IMMUTABLE, i.e cannot be edited.\n",
        "FASTER than List.\n",
        "Syntax is ().\n",
        "myTuple = (20, 'Hello')\n",
        "For Immutable order list, we can use tuple\n",
        "\n"
      ]
    },
    {
      "cell_type": "markdown",
      "metadata": {
        "id": "etlVvgYdnpkw"
      },
      "source": [
        "#What are literals in Python, types of literals.\n",
        "\n",
        "Notation to represent a specific set/types of values\n",
        "\n",
        "Numeric\n",
        "String\n",
        "Boolean\n",
        "None type literals"
      ]
    },
    {
      "cell_type": "code",
      "metadata": {
        "id": "G9272Vvv1glh"
      },
      "source": [
        "#swap two values without 3rd variable\n",
        "\n",
        "a = 10\n",
        "b = 20\n",
        "\n",
        "a,b = b,a"
      ],
      "execution_count": null,
      "outputs": []
    },
    {
      "cell_type": "markdown",
      "metadata": {
        "id": "7R82MA1D1gGi"
      },
      "source": [
        "#What is Variable in Python\n",
        "\n",
        "Acts as a tag to refer to the object \n",
        "Objects has types in python, but variablr\\es don't have. \n",
        "Variables never stores any data in python\n"
      ]
    },
    {
      "cell_type": "markdown",
      "metadata": {
        "id": "RGaFBlq72QoY"
      },
      "source": [
        "#How to find type and Identification number of an object\n",
        "\n",
        "print(type(a))\n",
        "print(id(a))\n",
        "\n"
      ]
    },
    {
      "cell_type": "markdown",
      "metadata": {
        "id": "zlXUOboE2d7G"
      },
      "source": [
        "#Arithmetic operators supported in Python\n",
        "\n",
        "Addition, subtraction-,  multiplication *,   division /,  modulus %,  Exponent **,  Floor division //\n",
        "\n"
      ]
    },
    {
      "cell_type": "markdown",
      "metadata": {
        "id": "RiIE0puw2_wV"
      },
      "source": [
        "#HOw to check wether two variables are pointing to same object in python\n",
        "\n",
        "We can use 'is' operator, which returns True if both points to same object or else false\n"
      ]
    },
    {
      "cell_type": "code",
      "metadata": {
        "colab": {
          "base_uri": "https://localhost:8080/"
        },
        "id": "X9u4xLFZ3US8",
        "outputId": "b647c87d-0032-4827-88ea-6f0c3184ac1b"
      },
      "source": [
        "a = \"Hello World\"\n",
        "c = a\n",
        "\n",
        "print(a is c)\n",
        "print(id(a))\n",
        "print(id(c))"
      ],
      "execution_count": null,
      "outputs": [
        {
          "output_type": "stream",
          "text": [
            "True\n",
            "139650542627888\n",
            "139650542627888\n"
          ],
          "name": "stdout"
        }
      ]
    },
    {
      "cell_type": "markdown",
      "metadata": {
        "id": "V1Cd_ky_35Bi"
      },
      "source": [
        "#To know the version of Python"
      ]
    },
    {
      "cell_type": "code",
      "metadata": {
        "colab": {
          "base_uri": "https://localhost:8080/"
        },
        "id": "H1crmbIm38R6",
        "outputId": "277b470e-778b-48c9-9c60-54b99dd2fdd5"
      },
      "source": [
        "import sys\n",
        "print(sys.version)"
      ],
      "execution_count": null,
      "outputs": [
        {
          "output_type": "stream",
          "text": [
            "3.7.10 (default, May  3 2021, 02:48:31) \n",
            "[GCC 7.5.0]\n"
          ],
          "name": "stdout"
        }
      ]
    },
    {
      "cell_type": "markdown",
      "metadata": {
        "id": "AF8AE6UE4IvY"
      },
      "source": [
        "#How to find #of references pointing to particular object\n",
        "\n",
        "Using getrefcount()"
      ]
    },
    {
      "cell_type": "code",
      "metadata": {
        "colab": {
          "base_uri": "https://localhost:8080/"
        },
        "id": "2d30dEwm4T4w",
        "outputId": "2cd92c35-4f41-483c-d20e-027afb01d054"
      },
      "source": [
        "import sys\n",
        "x = \"Hello World\"\n",
        "y = x\n",
        "print(sys.getrefcount(x))"
      ],
      "execution_count": null,
      "outputs": [
        {
          "output_type": "stream",
          "text": [
            "4\n"
          ],
          "name": "stdout"
        }
      ]
    },
    {
      "cell_type": "markdown",
      "metadata": {
        "id": "U4SWCEFk42km"
      },
      "source": [
        "#How to dispose or delete a variable\n",
        "\n",
        "Using 'del' keyword to delete a reference variable\n",
        "\n",
        "\n"
      ]
    },
    {
      "cell_type": "code",
      "metadata": {
        "colab": {
          "base_uri": "https://localhost:8080/",
          "height": 221
        },
        "id": "xQIgFNXB5HKO",
        "outputId": "c3629f3a-7abf-4c1f-fb3c-6db6e5f8c16c"
      },
      "source": [
        "import sys\n",
        "x = \"Hello World\"\n",
        "y = x\n",
        "print(sys.getrefcount(x))\n",
        "\n",
        "del x\n",
        "print(sys.getrefcount(x))"
      ],
      "execution_count": null,
      "outputs": [
        {
          "output_type": "stream",
          "text": [
            "4\n"
          ],
          "name": "stdout"
        },
        {
          "output_type": "error",
          "ename": "NameError",
          "evalue": "ignored",
          "traceback": [
            "\u001b[0;31m---------------------------------------------------------------------------\u001b[0m",
            "\u001b[0;31mNameError\u001b[0m                                 Traceback (most recent call last)",
            "\u001b[0;32m<ipython-input-4-768a20e9c9d4>\u001b[0m in \u001b[0;36m<module>\u001b[0;34m()\u001b[0m\n\u001b[1;32m      5\u001b[0m \u001b[0;34m\u001b[0m\u001b[0m\n\u001b[1;32m      6\u001b[0m \u001b[0;32mdel\u001b[0m \u001b[0mx\u001b[0m\u001b[0;34m\u001b[0m\u001b[0;34m\u001b[0m\u001b[0m\n\u001b[0;32m----> 7\u001b[0;31m \u001b[0mprint\u001b[0m\u001b[0;34m(\u001b[0m\u001b[0msys\u001b[0m\u001b[0;34m.\u001b[0m\u001b[0mgetrefcount\u001b[0m\u001b[0;34m(\u001b[0m\u001b[0mx\u001b[0m\u001b[0;34m)\u001b[0m\u001b[0;34m)\u001b[0m\u001b[0;34m\u001b[0m\u001b[0;34m\u001b[0m\u001b[0m\n\u001b[0m",
            "\u001b[0;31mNameError\u001b[0m: name 'x' is not defined"
          ]
        }
      ]
    },
    {
      "cell_type": "markdown",
      "metadata": {
        "id": "ensTh6mV5hol"
      },
      "source": [
        "#Difference between range() and xrange() functions\n",
        "\n",
        "In python2, both functions are available\n",
        "In python3 , only range is available\n"
      ]
    },
    {
      "cell_type": "code",
      "metadata": {
        "colab": {
          "base_uri": "https://localhost:8080/"
        },
        "id": "SFeccM3L52iT",
        "outputId": "b0c3641b-d638-4a2e-a13f-191fcf4d152b"
      },
      "source": [
        "a = range(1, 100)\n",
        "print(type(a))"
      ],
      "execution_count": null,
      "outputs": [
        {
          "output_type": "stream",
          "text": [
            "<class 'range'>\n"
          ],
          "name": "stdout"
        }
      ]
    },
    {
      "cell_type": "markdown",
      "metadata": {
        "id": "KELA_nVr6YGy"
      },
      "source": [
        "#Idle Naming conventions in python\n",
        "\n",
        "All variables anf functions follows lowercase and underscore\n",
        "\n",
        "Constants & Class names are either Uppercase or Camel case."
      ]
    },
    {
      "cell_type": "markdown",
      "metadata": {
        "id": "aQciCzT366fw"
      },
      "source": [
        ""
      ]
    },
    {
      "cell_type": "code",
      "metadata": {
        "id": "IGHGHiJWljik"
      },
      "source": [
        "#What happens in background when you run a python file\n",
        "\n",
        ".py file undergoes two phases: First it checks Syntax and in Second phase it compiles to Bytecode .pyc\n",
        "\n",
        "Then using python virtual machine , bytecode is loaded into memory and then it runs."
      ],
      "execution_count": null,
      "outputs": []
    },
    {
      "cell_type": "markdown",
      "metadata": {
        "id": "Zfob0WJf7lac"
      },
      "source": [
        "#What is Module\n",
        "\n",
        ".py file, in which variables, functions and classes and some code is defines. \n",
        "\n",
        "#How to include a module in current python file\n",
        "\n",
        "using import (File name of that module)\n",
        "\n",
        "#How do you reload a module\n",
        "reload(module name), reload() is a function\n",
        "\n"
      ]
    },
    {
      "cell_type": "markdown",
      "metadata": {
        "id": "tfoV-gwG87GK"
      },
      "source": [
        "\n",
        "#What is index out of range error\n",
        "\n",
        "When value passed to index operator is greater than actual size of list or tuple"
      ]
    },
    {
      "cell_type": "markdown",
      "metadata": {
        "id": "XuWIE7jF88qJ"
      },
      "source": [
        "#What is Slice notation in python\n",
        "\n",
        "a[startindex:endindex:stepsize]\n",
        "\n",
        "Colon : is a slice operator"
      ]
    },
    {
      "cell_type": "markdown",
      "metadata": {
        "id": "jePyDlpQ894a"
      },
      "source": [
        "#How to convert a list in a comma separated String\n",
        "\n",
        "Using join"
      ]
    },
    {
      "cell_type": "code",
      "metadata": {
        "colab": {
          "base_uri": "https://localhost:8080/"
        },
        "id": "2Ri0GovOA4SV",
        "outputId": "7ce396da-b957-4981-e328-27d0daf05a1f"
      },
      "source": [
        "a = [1,2,3,4,5,6,7]\n",
        "print(a)\n",
        "\n",
        "numbers = ','.join(str(i) for i in a)\n",
        "print(numbers)"
      ],
      "execution_count": null,
      "outputs": [
        {
          "output_type": "stream",
          "text": [
            "[1, 2, 3, 4, 5, 6, 7]\n",
            "1,2,3,4,5,6,7\n"
          ],
          "name": "stdout"
        }
      ]
    },
    {
      "cell_type": "markdown",
      "metadata": {
        "id": "znUnUKzlDC8I"
      },
      "source": [
        "#Difference between append() and extend() functions\n",
        "\n"
      ]
    },
    {
      "cell_type": "code",
      "metadata": {
        "colab": {
          "base_uri": "https://localhost:8080/"
        },
        "id": "wHT5X3IiDL1-",
        "outputId": "86468f53-7747-4a2a-98d9-c7134dccb844"
      },
      "source": [
        "a = [1,3,4,5]\n",
        "b = [9,8,7]\n",
        "\n",
        "a.extend(b)    #merge two lists in a single\n",
        "print(a)\n",
        "\n",
        "c = ['a', 'b']\n",
        "a.append(c)\n",
        "print('append', a)"
      ],
      "execution_count": null,
      "outputs": [
        {
          "output_type": "stream",
          "text": [
            "[1, 3, 4, 5, 9, 8, 7]\n",
            "append [1, 3, 4, 5, 9, 8, 7, ['a', 'b']]\n"
          ],
          "name": "stdout"
        }
      ]
    },
    {
      "cell_type": "markdown",
      "metadata": {
        "id": "zGmWFL4SEEVM"
      },
      "source": [
        "#Keywords\n",
        "\n",
        "Reserved words, Case sensitive\n"
      ]
    },
    {
      "cell_type": "markdown",
      "metadata": {
        "id": "5GVdE0TZEPWv"
      },
      "source": [
        "#What is dictionary in Python\n",
        "\n",
        "Dict is unordered collection of elements, key:value pair\n"
      ]
    },
    {
      "cell_type": "code",
      "metadata": {
        "colab": {
          "base_uri": "https://localhost:8080/"
        },
        "id": "_NRG0-iLEua7",
        "outputId": "7c51a5b5-0fb1-473f-a973-5dd4f6c5e185"
      },
      "source": [
        "myDict = {'fruit_names':('apple', 'banana', 'orange', 'mango')}\n",
        "myDict\n",
        "\n",
        "myDict.keys()\n",
        "myDict.values()\n"
      ],
      "execution_count": null,
      "outputs": [
        {
          "output_type": "execute_result",
          "data": {
            "text/plain": [
              "dict_values([('apple', 'banana', 'orange', 'mango')])"
            ]
          },
          "metadata": {
            "tags": []
          },
          "execution_count": 17
        }
      ]
    },
    {
      "cell_type": "markdown",
      "metadata": {
        "id": "yUFfMlwaERCK"
      },
      "source": [
        "#What are Classes and Objects in Python\n",
        "\n",
        "We can consider class as a Blueprint, and objects are real world entity defined and created from class.\n",
        "\n"
      ]
    },
    {
      "cell_type": "code",
      "metadata": {
        "id": "edoEQOlJFfUe"
      },
      "source": [
        "#Create a class with name Human, which will give out name and age ofthe person \n",
        "\n",
        "class human:\n",
        "  name = None\n",
        "  age = None\n",
        "\n",
        "  #Now we need to give values to name and age\n",
        "  def get_name(self):\n",
        "    print(\"Enter name\")\n",
        "    self.name = input()    #Whatever value is passed is stored in self object\n",
        "\n",
        "  def get_age(self):\n",
        "    print(\"Enter age\")\n",
        "    self.age = input()\n",
        "\n",
        "  #Methods to get output results\n",
        "  def put_name(self):\n",
        "    print(\"your name is : \", self.name)\n",
        "  def put_age(self):\n",
        "    print(\"Your age is :\", self.age)\n",
        "\n",
        "#Now the class is created, now we need to create instance/objects from the class\n",
        "\n"
      ],
      "execution_count": null,
      "outputs": []
    },
    {
      "cell_type": "code",
      "metadata": {
        "colab": {
          "base_uri": "https://localhost:8080/"
        },
        "id": "hzb7v_GHHWug",
        "outputId": "cd2df999-094b-4201-8faf-0aa182f5a853"
      },
      "source": [
        "person1 = human()\n",
        "person1.get_name()\n",
        "person1.get_age()"
      ],
      "execution_count": null,
      "outputs": [
        {
          "output_type": "stream",
          "text": [
            "Enter name\n",
            "Sam\n",
            "Enter age\n",
            "25\n"
          ],
          "name": "stdout"
        }
      ]
    },
    {
      "cell_type": "code",
      "metadata": {
        "colab": {
          "base_uri": "https://localhost:8080/"
        },
        "id": "_bNGflaQHaMY",
        "outputId": "6c50278b-9602-4ca5-e2ea-7083803c66ac"
      },
      "source": [
        "person1.put_age(), person1.put_name()\n"
      ],
      "execution_count": null,
      "outputs": [
        {
          "output_type": "stream",
          "text": [
            "Your age is : 25\n",
            "your name is :  Sam\n"
          ],
          "name": "stdout"
        },
        {
          "output_type": "execute_result",
          "data": {
            "text/plain": [
              "(None, None)"
            ]
          },
          "metadata": {
            "tags": []
          },
          "execution_count": 24
        }
      ]
    },
    {
      "cell_type": "markdown",
      "metadata": {
        "id": "1Jb-5YBDEQ4C"
      },
      "source": [
        ""
      ]
    },
    {
      "cell_type": "markdown",
      "metadata": {
        "id": "A1k3lNdbEQia"
      },
      "source": [
        ""
      ]
    },
    {
      "cell_type": "markdown",
      "metadata": {
        "id": "Iq6k4zadEQK1"
      },
      "source": [
        ""
      ]
    },
    {
      "cell_type": "markdown",
      "metadata": {
        "id": "7iL1miRoEPwF"
      },
      "source": [
        ""
      ]
    },
    {
      "cell_type": "code",
      "metadata": {
        "id": "VndJQfNf--Er"
      },
      "source": [
        " "
      ],
      "execution_count": null,
      "outputs": []
    }
  ]
}