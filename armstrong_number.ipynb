{
  "nbformat": 4,
  "nbformat_minor": 0,
  "metadata": {
    "colab": {
      "name": "armstrong_number.ipynb",
      "provenance": [],
      "authorship_tag": "ABX9TyN7AvjWoqNLO7fP9QsGK6PL",
      "include_colab_link": true
    },
    "kernelspec": {
      "name": "python3",
      "display_name": "Python 3"
    },
    "language_info": {
      "name": "python"
    }
  },
  "cells": [
    {
      "cell_type": "markdown",
      "metadata": {
        "id": "view-in-github",
        "colab_type": "text"
      },
      "source": [
        "<a href=\"https://colab.research.google.com/github/MoreKajal/Python_Daily_Practice/blob/main/armstrong_number.ipynb\" target=\"_parent\"><img src=\"https://colab.research.google.com/assets/colab-badge.svg\" alt=\"Open In Colab\"/></a>"
      ]
    },
    {
      "cell_type": "markdown",
      "metadata": {
        "id": "hQJQNkvgye0L"
      },
      "source": [
        "Armstrong Number:\n",
        "A number is said to be Armstrong if the 'Sum of (n)th power of it's digit is equal to the number itself'8\n",
        "\n",
        "153 = (1)^3 + (5)^3 + (3)^3 = 1+125+27 = 153"
      ]
    },
    {
      "cell_type": "code",
      "metadata": {
        "id": "GC_U43hpw4Yv",
        "colab": {
          "base_uri": "https://localhost:8080/"
        },
        "outputId": "45ca25eb-4a3c-452c-f2fc-92c457cb0af3"
      },
      "source": [
        "#Take input from user\n",
        "num = int(input('Enter the number: '))\n",
        "\n",
        "#Change the number to string to calculate order \n",
        "order = len(str(num))\n",
        "\n",
        "sum = 0\n",
        "\n",
        "#Find nth power of each digit\n",
        "temp = num\n",
        "while temp > 0:\n",
        "  digit = temp % 10\n",
        "  sum += digit ** order\n",
        "  temp = temp // 10\n",
        "\n",
        "if num == sum:\n",
        "  print(num, \"is an Armstrong number\")\n",
        "else:\n",
        "  print(num, 'is not an Armstrong number')"
      ],
      "execution_count": null,
      "outputs": [
        {
          "output_type": "stream",
          "name": "stdout",
          "text": [
            "Enter the number: 153\n",
            "153 is an Armstrong number\n"
          ]
        }
      ]
    }
  ]
}