{
  "nbformat": 4,
  "nbformat_minor": 0,
  "metadata": {
    "colab": {
      "name": "max_min_bet_numbers.ipynb",
      "provenance": [],
      "collapsed_sections": [],
      "authorship_tag": "ABX9TyNyEDkcGfeJcqowTbRK+jDF",
      "include_colab_link": true
    },
    "kernelspec": {
      "name": "python3",
      "display_name": "Python 3"
    },
    "language_info": {
      "name": "python"
    }
  },
  "cells": [
    {
      "cell_type": "markdown",
      "metadata": {
        "id": "view-in-github",
        "colab_type": "text"
      },
      "source": [
        "<a href=\"https://colab.research.google.com/github/MoreKajal/Python_Daily_Practice/blob/main/max_min_bet_numbers.ipynb\" target=\"_parent\"><img src=\"https://colab.research.google.com/assets/colab-badge.svg\" alt=\"Open In Colab\"/></a>"
      ]
    },
    {
      "cell_type": "markdown",
      "metadata": {
        "id": "0nWLTZcREuYC"
      },
      "source": [
        "Code to find Maximum and Minimum between two numbers\n",
        "We can use max(), min() functions, or can define a separate function."
      ]
    },
    {
      "cell_type": "code",
      "metadata": {
        "id": "FRwB5-eN6mKY",
        "colab": {
          "base_uri": "https://localhost:8080/"
        },
        "outputId": "cbb27096-6fca-48b1-8723-37cc2442be46"
      },
      "source": [
        "n1 = 12\n",
        "n2 = 46\n",
        "\n",
        "maximum = max(n1, n2)\n",
        "print('Maximum is :', maximum)\n",
        "\n",
        "minimum = min(n1, n2)\n",
        "print('Minimum is :', minimum)"
      ],
      "execution_count": null,
      "outputs": [
        {
          "output_type": "stream",
          "text": [
            "Maximum is : 46\n",
            "Minimum is : 12\n"
          ],
          "name": "stdout"
        }
      ]
    },
    {
      "cell_type": "code",
      "metadata": {
        "colab": {
          "base_uri": "https://localhost:8080/"
        },
        "id": "OZNPFdVbFqn1",
        "outputId": "b2dd406a-1cb7-4f2b-cd09-924d1d96a615"
      },
      "source": [
        "# By defining a function\n",
        "\n",
        "def max_min(n1, n2):\n",
        "  if n1 >= n2:\n",
        "    return n1\n",
        "  else:\n",
        "    return n2\n",
        "    \n",
        "n1 = input('Enter n1 : ')\n",
        "n2 = input('Enter n2 : ')\n",
        "print(max_min(n1, n2))   #Will print max between two numbers."
      ],
      "execution_count": null,
      "outputs": [
        {
          "output_type": "stream",
          "text": [
            "Enter n1 : 12\n",
            "Enter n2 : 46\n",
            "46\n"
          ],
          "name": "stdout"
        }
      ]
    }
  ]
}