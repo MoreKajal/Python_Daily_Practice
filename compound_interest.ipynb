{
  "nbformat": 4,
  "nbformat_minor": 0,
  "metadata": {
    "colab": {
      "name": "compound_interest.ipynb",
      "provenance": [],
      "collapsed_sections": [],
      "authorship_tag": "ABX9TyOT7qb57hPn1RNI+wJcrgl3",
      "include_colab_link": true
    },
    "kernelspec": {
      "name": "python3",
      "display_name": "Python 3"
    },
    "language_info": {
      "name": "python"
    }
  },
  "cells": [
    {
      "cell_type": "markdown",
      "metadata": {
        "id": "view-in-github",
        "colab_type": "text"
      },
      "source": [
        "<a href=\"https://colab.research.google.com/github/MoreKajal/Python_Daily_Practice/blob/main/compound_interest.ipynb\" target=\"_parent\"><img src=\"https://colab.research.google.com/assets/colab-badge.svg\" alt=\"Open In Colab\"/></a>"
      ]
    },
    {
      "cell_type": "markdown",
      "metadata": {
        "id": "igY6Grt5Pgre"
      },
      "source": [
        "Compound Interest\n",
        "In simple words it is Interest on Interest\n",
        "\n",
        "A = P[ 1 + R/100 ]^n\n",
        "CI = A - P\n",
        "where, P : Principal amount\n",
        "       A : Amount\n",
        "       R : Rate of interest\n",
        "       n : Time duration\n",
        "       "
      ]
    },
    {
      "cell_type": "code",
      "metadata": {
        "colab": {
          "base_uri": "https://localhost:8080/"
        },
        "id": "b5Bldw0FPThF",
        "outputId": "a4ac7942-4dbe-4a2f-d14f-fb1928c7425b"
      },
      "source": [
        "def compound_interest(p, n , r):\n",
        "  amount = p *(pow((1 + r/100), n))\n",
        "  ci = amount - p\n",
        "  print('Compound Intererst Calculated is :', ci)\n",
        "\n",
        "compound_interest(100000,6.5,4)"
      ],
      "execution_count": null,
      "outputs": [
        {
          "output_type": "stream",
          "text": [
            "Compound Intererst Calculated is : 29037.727324623513\n"
          ],
          "name": "stdout"
        }
      ]
    }
  ]
}