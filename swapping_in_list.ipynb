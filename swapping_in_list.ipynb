{
  "nbformat": 4,
  "nbformat_minor": 0,
  "metadata": {
    "colab": {
      "name": "swapping_in_list.ipynb",
      "provenance": [],
      "authorship_tag": "ABX9TyPw3ivNWV4WxBgp/rHJwaAF",
      "include_colab_link": true
    },
    "kernelspec": {
      "name": "python3",
      "display_name": "Python 3"
    },
    "language_info": {
      "name": "python"
    }
  },
  "cells": [
    {
      "cell_type": "markdown",
      "metadata": {
        "id": "view-in-github",
        "colab_type": "text"
      },
      "source": [
        "<a href=\"https://colab.research.google.com/github/MoreKajal/Python_Daily_Practice/blob/main/swapping_in_list.ipynb\" target=\"_parent\"><img src=\"https://colab.research.google.com/assets/colab-badge.svg\" alt=\"Open In Colab\"/></a>"
      ]
    },
    {
      "cell_type": "markdown",
      "metadata": {
        "id": "Z8AGZkFc9C5F"
      },
      "source": [
        "Swap two elements in a list"
      ]
    },
    {
      "cell_type": "code",
      "metadata": {
        "id": "pX422Fhz3SmD",
        "colab": {
          "base_uri": "https://localhost:8080/"
        },
        "outputId": "3088587d-c5a8-4a8c-975c-c04f1b8053b2"
      },
      "source": [
        "#1. Using simple swap between two elements in a list\n",
        "\n",
        "#Define a general function\n",
        "\n",
        "def swap_elements(list, index1, index2):\n",
        "  list[index1], list[index2] = list[index2], list[index1]\n",
        "  return list\n",
        "\n",
        "myList = [ 20,45,36,12,5]\n",
        "index1, index2 = 0, 3\n",
        "\n",
        "print(swap_elements(myList, index1, index2))\n"
      ],
      "execution_count": 2,
      "outputs": [
        {
          "output_type": "stream",
          "text": [
            "[12, 45, 36, 20, 5]\n"
          ],
          "name": "stdout"
        }
      ]
    }
  ]
}