{
  "nbformat": 4,
  "nbformat_minor": 0,
  "metadata": {
    "colab": {
      "name": "swapping_in_list.ipynb",
      "provenance": [],
      "authorship_tag": "ABX9TyMixf9wsdnoSIubz7ro7j+b",
      "include_colab_link": true
    },
    "kernelspec": {
      "name": "python3",
      "display_name": "Python 3"
    },
    "language_info": {
      "name": "python"
    }
  },
  "cells": [
    {
      "cell_type": "markdown",
      "metadata": {
        "id": "view-in-github",
        "colab_type": "text"
      },
      "source": [
        "<a href=\"https://colab.research.google.com/github/MoreKajal/Python_Daily_Practice/blob/main/swapping_in_list.ipynb\" target=\"_parent\"><img src=\"https://colab.research.google.com/assets/colab-badge.svg\" alt=\"Open In Colab\"/></a>"
      ]
    },
    {
      "cell_type": "markdown",
      "metadata": {
        "id": "Z8AGZkFc9C5F"
      },
      "source": [
        "Swap two elements in a list"
      ]
    },
    {
      "cell_type": "code",
      "metadata": {
        "id": "pX422Fhz3SmD",
        "colab": {
          "base_uri": "https://localhost:8080/"
        },
        "outputId": "3088587d-c5a8-4a8c-975c-c04f1b8053b2"
      },
      "source": [
        "#1. Using simple swap between two elements in a list\n",
        "\n",
        "#Define a general function\n",
        "\n",
        "def swap_elements(list, index1, index2):\n",
        "  list[index1], list[index2] = list[index2], list[index1]\n",
        "  return list\n",
        "\n",
        "myList = [ 20,45,36,12,5]\n",
        "index1, index2 = 0, 3\n",
        "\n",
        "print(swap_elements(myList, index1, index2))\n"
      ],
      "execution_count": null,
      "outputs": [
        {
          "output_type": "stream",
          "text": [
            "[12, 45, 36, 20, 5]\n"
          ],
          "name": "stdout"
        }
      ]
    },
    {
      "cell_type": "markdown",
      "metadata": {
        "id": "_uKxPfST25fY"
      },
      "source": [
        "Using inbuilt pop(index) function\n",
        "This will pop the element of given index from the list"
      ]
    },
    {
      "cell_type": "code",
      "metadata": {
        "colab": {
          "base_uri": "https://localhost:8080/"
        },
        "id": "PfLZ-2Rt3Pfm",
        "outputId": "635a01d8-2c00-43cc-d546-1516143476f1"
      },
      "source": [
        "def swap_elements(list, index1, index2):\n",
        "  pos1 = list.pop(index1)\n",
        "  pos2 = list.pop(index2)\n",
        "  print('New popped list is - ', list)\n",
        "\n",
        "  list.insert(index1, pos2 )\n",
        "  list.insert(index2, pos1 )\n",
        "  print('New inserted list is - ', list)\n",
        "\n",
        "  return list\n",
        "\n",
        "myList = [1, 4, 7, 9, 13]\n",
        "#index1, index2 = 0 , 2\n",
        "index1, index2 = 2 , 4\n",
        "\n",
        "print(swap_elements(myList, index1, index2-1))   #As indexing in list starts from 0, need to do -1"
      ],
      "execution_count": 11,
      "outputs": [
        {
          "output_type": "stream",
          "text": [
            "New popped list is -  [1, 4, 9]\n",
            "New inserted list is -  [1, 4, 13, 7, 9]\n",
            "[1, 4, 13, 7, 9]\n"
          ],
          "name": "stdout"
        }
      ]
    }
  ]
}