{
 "cells": [
  {
   "cell_type": "markdown",
   "id": "416d4d80",
   "metadata": {},
   "source": [
    "### Conditional statements"
   ]
  },
  {
   "cell_type": "code",
   "execution_count": 1,
   "id": "10f17142",
   "metadata": {},
   "outputs": [
    {
     "name": "stdout",
     "output_type": "stream",
     "text": [
      "It's a hot day\n",
      "Stay indoor\n"
     ]
    }
   ],
   "source": [
    "is_hot = True\n",
    "\n",
    "if is_hot:\n",
    "    print(\"It's a hot day\")\n",
    "print(\"Stay indoor\")"
   ]
  },
  {
   "cell_type": "code",
   "execution_count": 2,
   "id": "1f5b9368",
   "metadata": {},
   "outputs": [
    {
     "name": "stdout",
     "output_type": "stream",
     "text": [
      "Stay indoor\n"
     ]
    }
   ],
   "source": [
    "is_hot = False\n",
    "\n",
    "if is_hot:\n",
    "    print(\"It's a hot day\")\n",
    "print(\"Stay indoor\")"
   ]
  },
  {
   "cell_type": "code",
   "execution_count": 3,
   "id": "7630d90b",
   "metadata": {},
   "outputs": [
    {
     "name": "stdout",
     "output_type": "stream",
     "text": [
      "It's a hot day\n",
      "Drink plenty of water\n",
      "Stay indoor\n"
     ]
    }
   ],
   "source": [
    "is_hot = True\n",
    "\n",
    "if is_hot:\n",
    "    print(\"It's a hot day\")\n",
    "    print('Drink plenty of water')\n",
    "print(\"Stay indoor\")"
   ]
  },
  {
   "cell_type": "code",
   "execution_count": 4,
   "id": "65584c92",
   "metadata": {},
   "outputs": [
    {
     "name": "stdout",
     "output_type": "stream",
     "text": [
      "It's a cold day\n",
      "Wear warm clothes\n",
      "Enjoy your day\n"
     ]
    }
   ],
   "source": [
    "is_hot = False\n",
    "\n",
    "if is_hot:\n",
    "    print(\"It's a hot day\")\n",
    "    print('Drink plenty of water')\n",
    "else:\n",
    "    print(\"It's a cold day\")\n",
    "    print(\"Wear warm clothes\")\n",
    "print(\"Enjoy your day\")"
   ]
  },
  {
   "cell_type": "code",
   "execution_count": 5,
   "id": "e6404514",
   "metadata": {},
   "outputs": [
    {
     "name": "stdout",
     "output_type": "stream",
     "text": [
      "It's a cold day\n",
      "Wear warm clothes\n",
      "Enjoy your day\n"
     ]
    }
   ],
   "source": [
    "is_hot = False\n",
    "is_cold = True\n",
    "\n",
    "if is_hot:\n",
    "    print(\"It's a hot day\")\n",
    "    print('Drink plenty of water')\n",
    "elif is_cold:\n",
    "    print(\"It's a cold day\")\n",
    "    print(\"Wear warm clothes\")\n",
    "else:\n",
    "    print(\"It's a lovely day\")\n",
    "print('Enjoy your day')"
   ]
  },
  {
   "cell_type": "code",
   "execution_count": 6,
   "id": "dc0dbf82",
   "metadata": {},
   "outputs": [
    {
     "name": "stdout",
     "output_type": "stream",
     "text": [
      "It's a lovely day\n",
      "Enjoy your day\n"
     ]
    }
   ],
   "source": [
    "is_hot = False\n",
    "is_cold = False\n",
    "\n",
    "if is_hot:\n",
    "    print(\"It's a hot day\")\n",
    "    print('Drink plenty of water')\n",
    "elif is_cold:\n",
    "    print(\"It's a cold day\")\n",
    "    print(\"Wear warm clothes\")\n",
    "else:\n",
    "    print(\"It's a lovely day\")\n",
    "print('Enjoy your day')"
   ]
  },
  {
   "cell_type": "markdown",
   "id": "db2b2c05",
   "metadata": {},
   "source": [
    "'''\n",
    "price of house = $1M \n",
    "If buyer has good credit, \n",
    "    they need to put down 10%\n",
    "otherwise\n",
    "    they need to put down 20%\n",
    "print the down payment \n",
    "'''"
   ]
  },
  {
   "cell_type": "code",
   "execution_count": 7,
   "id": "04cb79a1",
   "metadata": {},
   "outputs": [
    {
     "name": "stdout",
     "output_type": "stream",
     "text": [
      "Down Payment : $100000.0\n"
     ]
    }
   ],
   "source": [
    "price = 1000000\n",
    "has_good_credit = True\n",
    "\n",
    "if has_good_credit:\n",
    "    down_payment = 0.1 * price\n",
    "else:\n",
    "    down_payment = 0.2 * price\n",
    "print(f\"Down Payment : ${down_payment}\")"
   ]
  },
  {
   "cell_type": "code",
   "execution_count": null,
   "id": "39e6668b",
   "metadata": {},
   "outputs": [],
   "source": []
  }
 ],
 "metadata": {
  "kernelspec": {
   "display_name": "Python 3 (ipykernel)",
   "language": "python",
   "name": "python3"
  },
  "language_info": {
   "codemirror_mode": {
    "name": "ipython",
    "version": 3
   },
   "file_extension": ".py",
   "mimetype": "text/x-python",
   "name": "python",
   "nbconvert_exporter": "python",
   "pygments_lexer": "ipython3",
   "version": "3.9.0"
  }
 },
 "nbformat": 4,
 "nbformat_minor": 5
}
