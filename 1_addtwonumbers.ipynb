{
  "nbformat": 4,
  "nbformat_minor": 0,
  "metadata": {
    "colab": {
      "name": "1_addtwonumbers.ipynb",
      "provenance": [],
      "authorship_tag": "ABX9TyMQnff7bpJd9+t5Yax5dpPA",
      "include_colab_link": true
    },
    "kernelspec": {
      "name": "python3",
      "display_name": "Python 3"
    },
    "language_info": {
      "name": "python"
    }
  },
  "cells": [
    {
      "cell_type": "markdown",
      "metadata": {
        "id": "view-in-github",
        "colab_type": "text"
      },
      "source": [
        "<a href=\"https://colab.research.google.com/github/MoreKajal/Python_Daily_Practice/blob/main/1_addtwonumbers.ipynb\" target=\"_parent\"><img src=\"https://colab.research.google.com/assets/colab-badge.svg\" alt=\"Open In Colab\"/></a>"
      ]
    },
    {
      "cell_type": "markdown",
      "metadata": {
        "id": "L-SzW9NY2EoD"
      },
      "source": [
        "Add two numbers"
      ]
    },
    {
      "cell_type": "code",
      "metadata": {
        "colab": {
          "base_uri": "https://localhost:8080/"
        },
        "id": "RDexd5xD0hyk",
        "outputId": "c900d5c5-5479-44a2-b45f-e4694694542e"
      },
      "source": [
        "#Add two numbers\n",
        "\n",
        "num1 = 15\n",
        "num2 = 41\n",
        "\n",
        "sum = num1 + num2\n",
        "print('Sum of two numbers is :', sum)"
      ],
      "execution_count": 1,
      "outputs": [
        {
          "output_type": "stream",
          "text": [
            "Sum of two numbers is : 56\n"
          ],
          "name": "stdout"
        }
      ]
    },
    {
      "cell_type": "markdown",
      "metadata": {
        "id": "tCY7DnEl4Snd"
      },
      "source": [
        "#Take input from User"
      ]
    },
    {
      "cell_type": "code",
      "metadata": {
        "colab": {
          "base_uri": "https://localhost:8080/"
        },
        "id": "-csX-qZn4WRB",
        "outputId": "90f8972b-81a6-488c-b36c-a2ad2ea054a2"
      },
      "source": [
        "#Use 'input' keyword to take user input\n",
        "num1 = input('Enter First Number: ')\n",
        "num2 = input('Enter Second Number: ')\n",
        "\n",
        "sum = float(num1) + float(num2)     #When taking i/p from user, float is necessary\n",
        "print('The sum of {0} and {1} is {2}'.format(num1, num2, sum))\n"
      ],
      "execution_count": 8,
      "outputs": [
        {
          "output_type": "stream",
          "text": [
            "Enter First Number: 45\n",
            "Enter Second Number: 15\n",
            "The sum of 45 and 15 is 60.0\n"
          ],
          "name": "stdout"
        }
      ]
    }
  ]
}