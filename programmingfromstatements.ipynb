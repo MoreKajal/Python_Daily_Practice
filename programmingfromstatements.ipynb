{
  "nbformat": 4,
  "nbformat_minor": 0,
  "metadata": {
    "colab": {
      "name": "programmingfromstatements.ipynb",
      "provenance": [],
      "collapsed_sections": [],
      "authorship_tag": "ABX9TyO9qxRS38181dZQim64dguq",
      "include_colab_link": true
    },
    "kernelspec": {
      "name": "python3",
      "display_name": "Python 3"
    },
    "language_info": {
      "name": "python"
    }
  },
  "cells": [
    {
      "cell_type": "markdown",
      "metadata": {
        "id": "view-in-github",
        "colab_type": "text"
      },
      "source": [
        "<a href=\"https://colab.research.google.com/github/MoreKajal/Python_Daily_Practice/blob/main/programmingfromstatements.ipynb\" target=\"_parent\"><img src=\"https://colab.research.google.com/assets/colab-badge.svg\" alt=\"Open In Colab\"/></a>"
      ]
    },
    {
      "cell_type": "code",
      "metadata": {
        "id": "Uqf6Y8a4gEpH"
      },
      "source": [
        "Imagine a square chessboard.\n",
        "\n",
        "The queen (or queen) can move vertically, horizontally and diagonally any number of cells.\n",
        "\n",
        "Based on the coordinates of the two squares, determine whether the queen can move from the first to the second in one move.\n",
        " If it can, print YES. Otherwise, print NO. The program gets 4 whole numbers from 1 to 8.\n",
        "  The first and the second one give the column and the row for the first square, the third and the fourth for the second square.\n",
        "\n",
        "Entry example #1\n",
        "\n",
        "1\n",
        "\n",
        "1\n",
        "\n",
        "2\n",
        "\n",
        "2\n",
        "\n",
        "Example result #1\n",
        "\n",
        "YES\n",
        "\n",
        "Entry example #2\n",
        "\n",
        "1\n",
        "\n",
        "1\n",
        "\n",
        "8\n",
        "\n",
        "2\n",
        "\n",
        "Example result #2\n",
        "\n",
        "NO"
      ],
      "execution_count": null,
      "outputs": []
    },
    {
      "cell_type": "code",
      "metadata": {
        "colab": {
          "base_uri": "https://localhost:8080/"
        },
        "id": "QCdljdh-gPoD",
        "outputId": "48a887a4-435b-49eb-f68c-3424182f78ff"
      },
      "source": [
        "#Let q1 & q2 are two players\n",
        "#R, C ,D denotes row, column, and Diagonal resp.\n",
        "#As mentioned queen can move vertically, horizontally or diagonally any number of cells.\n",
        "\n",
        "def queencanmove(q1R, q1C, q2R, q2C):\n",
        "  #If both the players are in same column or row, then they can either move horizontally or vertically\n",
        "  if q1R == q2R:\n",
        "    return True\n",
        "  if q1C == q2C:\n",
        "    return True\n",
        "\n",
        "  #If the players are in diagonal, they can move either both sides\n",
        "  #if abs(q1R - q2R) == abs(q1C - q2C):\n",
        "    #return True\n",
        "  else:\n",
        "    return False      #For neither any case\n",
        "\n",
        "q1R,q1C = input('enter square 1 coordinates : ').split()\n",
        "q2R,q2C = input('enter square 2 coordinates : ').split()\n",
        "\n",
        "if queencanmove(q1R, q1C, q2R,q2C):\n",
        "  print(\"YES\")\n",
        "else:\n",
        "  print(\"NO\")\n",
        "\n"
      ],
      "execution_count": null,
      "outputs": [
        {
          "output_type": "stream",
          "text": [
            "enter square 1 coordinates : 2, 2\n",
            "enter square 2 coordinates : 2, 2\n",
            "YES\n"
          ],
          "name": "stdout"
        }
      ]
    },
    {
      "cell_type": "markdown",
      "metadata": {
        "id": "RLfirTx-q8A7"
      },
      "source": [
        "Write a program that asks the user for the number of lines for the entered poem. It then allows the user to enter the desired number of lines.\n",
        "\n",
        "Then output the number of lines, vowels and consonants in the poem and in each line.\n",
        "\n",
        "For simplicity, let us enter the poem in small English letters only. \n",
        "\n",
        "Input example: \n",
        "\n",
        "How many lines will there be? 4\n",
        "\n",
        "Once there was an elephant,\n",
        "Who tried to use the telephant\n",
        "No! No! I mean an elephone\n",
        "Who tried to use the telephone\n",
        "\n",
        "Example result: \n",
        "\n",
        "Number of vowels: 40\n",
        "\n",
        "Number of consonants: 51"
      ]
    },
    {
      "cell_type": "code",
      "metadata": {
        "colab": {
          "base_uri": "https://localhost:8080/"
        },
        "id": "JEYlZRcpq_Sv",
        "outputId": "3eea9e6b-100a-4c32-ab4c-6b2536812709"
      },
      "source": [
        "\n",
        "numoflines = int(input('Enter number of lines to write a poem '))\n",
        "count_vowels = 0\n",
        "count_consonants = 0\n",
        "for i in range(1, numoflines + 1):\n",
        "    poem = input(f\"Enter poem line {i}: \")\n",
        "    for character in poem.lower():\n",
        "        if character in 'aeiou':\n",
        "            count_vowels += 1\n",
        "        elif character in \"bcdfghjklmnpqrstvwxyz\":\n",
        "            count_consonants += 1\n",
        "\n",
        "print(\"Number of Vowels: \", count_vowels)\n",
        "print(\"Number of Consonants: \", count_consonants)"
      ],
      "execution_count": 9,
      "outputs": [
        {
          "output_type": "stream",
          "text": [
            "Enter number of lines to write a poem 4\n",
            "Enter poem line 1: Once there was an elephant,\n",
            "Enter poem line 2: Who tried to use the telephant\n",
            "Enter poem line 3: No! No! I mean an elephone\n",
            "Enter poem line 4: Who tried to use the telephone\n",
            "Number of Vowels:  40\n",
            "Number of Consonants:  51\n"
          ],
          "name": "stdout"
        }
      ]
    },
    {
      "cell_type": "markdown",
      "metadata": {
        "id": "C43pIL8qq7-I"
      },
      "source": [
        ""
      ]
    }
  ]
}